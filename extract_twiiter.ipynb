{
 "metadata": {
  "language_info": {
   "codemirror_mode": {
    "name": "ipython",
    "version": 3
   },
   "file_extension": ".py",
   "mimetype": "text/x-python",
   "name": "python",
   "nbconvert_exporter": "python",
   "pygments_lexer": "ipython3",
   "version": "3.9.0-final"
  },
  "orig_nbformat": 2,
  "kernelspec": {
   "name": "python3",
   "display_name": "Python 3.9.0 64-bit ('tutorial-env')",
   "metadata": {
    "interpreter": {
     "hash": "587ec752dcd126417e33b0f3d3c7bf7034bcbae61acec8b8de388651c8e9bb33"
    }
   }
  }
 },
 "nbformat": 4,
 "nbformat_minor": 2,
 "cells": [
  {
   "cell_type": "code",
   "execution_count": 1,
   "metadata": {},
   "outputs": [],
   "source": [
    "import tweepy\n",
    "import datetime\n",
    "import re\n",
    "import pandas as pd \n",
    "import twint\n",
    "import nest_asyncio\n",
    "import spacy\n",
    "from langdetect import detect\n",
    "import plotly.express as px\n",
    "nest_asyncio.apply()"
   ]
  },
  {
   "source": [
    "# Extração dos Tweets da Avon"
   ],
   "cell_type": "markdown",
   "metadata": {}
  },
  {
   "cell_type": "code",
   "execution_count": 2,
   "metadata": {},
   "outputs": [],
   "source": [
    "c = twint.Config()"
   ]
  },
  {
   "cell_type": "code",
   "execution_count": 3,
   "metadata": {},
   "outputs": [],
   "source": [
    "nest_asyncio.apply()"
   ]
  },
  {
   "source": [
    "# Extração dos dados no Período Pós BBB (25/01/2021 até 10/02/2021)"
   ],
   "cell_type": "markdown",
   "metadata": {}
  },
  {
   "cell_type": "code",
   "execution_count": 4,
   "metadata": {
    "tags": [
     "outputPrepend"
    ]
   },
   "outputs": [
    {
     "output_type": "stream",
     "name": "stdout",
     "text": [
      "02:10 -0300 <bevandton> @markneilson111 This is Headlands Beach park and that is the FairPort harbor light house.  You lived west of Cleveland? I live east of Cleveland.  I used to live in Elyria years ago which isn’t too far from Avon. How long has it been since you lived in Ohio?\n",
      "1353523366762864643 2021-01-24 23:01:32 -0300 <BGsbeautycare> Be the first to get your hands on NEW Lumilayer Rosy Perfect Primer. Get a sneak peek trial size for just $7 with select VDL product purchases.   https://t.co/iv311YeKCE   #avon #vdl #new #lumilayer #rosy #perfectprimer #conditionsapply #brigittesbeautycare  https://t.co/aojc4LiZlD\n",
      "1353522552648462337 2021-01-24 22:58:18 -0300 <JayTC07> @GriggsKidd41 Avon\n",
      "1353522525679054848 2021-01-24 22:58:12 -0300 <LucySantos_004> @sophixeu @diarraluv @J_hoprigado @trybeherondale @mariartwork @vcutmi Esse eu comprei das revista Avon q minha vó vende N gosto muito de comprar de revista pq as capas n são tão boas, mas tava bem barato Eu nunca tinha visto o livro em outro lugar\n",
      "1353522466900103170 2021-01-24 22:57:57 -0300 <gasparethor> @irugine se viu eu q ensinei ele a pinta a unha e quando ele veio aqui em casa eu emprestei um hidratante da avon\n",
      "1353522133436149760 2021-01-24 22:56:38 -0300 <Kristin92394354> I got a little Avon helper! 😂 Bernie says you should check out my website for your Valentine’s Day shopping!   https://t.co/HEWCDianZl  #berniesMittens #Berniememes #avon #ValentinesDayCountdown #valentinesday  https://t.co/ky3VBetCQb\n",
      "1353522021171425280 2021-01-24 22:56:11 -0300 <MyAvonbySoniaC> Thank you @AvonInsider #avon #makelifebeautiful 💕  https://t.co/q65BL7fDsR\n",
      "1353521710327279616 2021-01-24 22:54:57 -0300 <jaumestarellass> sa nececitat de repetir a sa persona com es es seu fisic o aixi com es avon esta ? no t'enteres de que pot afectar igualment que no ho peresqui, pero bueno enfin sa hipotenusa 😀\n",
      "1353521227009306624 2021-01-24 22:53:02 -0300 <softestangel> not mary kay and avon girls for a 2021 age of aquarius grind\n",
      "1353520785621716993 2021-01-24 22:51:17 -0300 <botbissexual> revendedora da avon e bissexual\n",
      "1353520699269373953 2021-01-24 22:50:56 -0300 <bhsdogs> Mark your 📅.   @bhsdogsghoops will take on Avon in the First Round of the IHSAA Sectional at Terre Haute North February 2nd.   #BulldogTough  https://t.co/4rwQvQVV7u\n",
      "1353520361770508294 2021-01-24 22:49:36 -0300 <Paubalbastro> Mi tienda digital avon ❣🌈😍  https://t.co/jYK3eaEBrk\n",
      "1353520339859476480 2021-01-24 22:49:30 -0300 <THSBravesGBB> The Braves get the bye and will play the winner of Avon and Brownsburg in the first sectional 12 semifinal.  https://t.co/fBJDAIdtbw\n",
      "1353520306812555265 2021-01-24 22:49:22 -0300 <BGsbeautycare> Véilment Natural Spa Black Rose!   https://t.co/iv311YeKCE   #avon #veilment #natural #spa #blackrose #brigittesbeautycare  https://t.co/pqn4XGc7X8\n",
      "1353519628228685825 2021-01-24 22:46:41 -0300 <FERNANDEZLIENDO> @MariaTe59556605 Para ser rico de cuna te puedes inscribir en cualquier partido de la oposición pero si te inscribes en el psuv te tocará trabajar lamentablemente vendiendo Avon\n",
      "1353519580501729282 2021-01-24 22:46:29 -0300 <THSouthSports> Girls basketball sectional draw is in, your Braves will play the winner of Avon and Brownsburg on Friday night. Sectional will be played at TH North.  https://t.co/kxhrMDZ8kq\n",
      "1353519574516428801 2021-01-24 22:46:28 -0300 <kay__wizz> LICENSED esthetician/ lash tech located in Avon, IN. I have some openings left this week! DM me to book! 😍  https://t.co/pnr3nWwbiu\n",
      "1353519314880622592 2021-01-24 22:45:26 -0300 <touustyles> @forthebrxvx @herewetpwk @_solxsunshine de avon\n",
      "1353519257980690438 2021-01-24 22:45:12 -0300 <NWJS_jobs> Join the South Florida State College team! Our latest job opening:  https://t.co/kYnNgvPsSi Avon Park, FL Softwaredeveloper\n",
      "1353519068695863298 2021-01-24 22:44:27 -0300 <specklight> @DrWendyRocks @ThatEricAlper If I hadn't been able to print a pdf of some vintage classic paper dolls already, that's one thing I would have loved to see again.  The ring was selected from an Avon catalog one summer that friends had moved away and I was moping around a bit.\n",
      "1353518346411651073 2021-01-24 22:41:35 -0300 <marywpizza> Avon The Brochure  https://t.co/2Jb0ktQaFE\n",
      "1353518116937093120 2021-01-24 22:40:40 -0300 <sarahghav> My Hermes driver tried to recruit me for Avon....? I just????? I wasn’t expecting a job interview when I opened the door? And to make it worse, the driver is a male and someone’s da is literally selling Avon 😭😭😭😭😭😭😭😂😂😂\n",
      "1353517845259448320 2021-01-24 22:39:36 -0300 <alfoortiz93> @MarcosEspinolaa @ces_col Claro que sí tengo de Avon.\n",
      "1353517777118760961 2021-01-24 22:39:19 -0300 <KeyCharleston> #vintage #Avon #ebayseller #ebaystore #ebayfinds   https://t.co/9qWx6LuRRs\n",
      "1353517490215776256 2021-01-24 22:38:11 -0300 <1967aurora> Vendiendo avon pero tienes que patear la calle que jode.\n",
      "1353517472935276544 2021-01-24 22:38:07 -0300 <gust_avon> sou obrigado a ter empatia?\n",
      "1353516730774122501 2021-01-24 22:35:10 -0300 <touustyles> @herewetpwk @_solxsunshine @forthebrxvx avon 😭✝️🕯🕯🕯🙏🏼🙏🏼🙏🏼\n",
      "1353515797109465088 2021-01-24 22:31:27 -0300 <irvinbravoM> 💄🙆‍♂️ AVON presenta sus NUEVOS LABIALES para Hombres ▶️VIDEO AQUI ↪  https://t.co/51RfDxjm2t  ☝️Conoce la nueva línea de Patrick Mua en colaboración con Avon, labiales para el género masculino 💄😯  Excelente domingo a todos 👋  https://t.co/rwBEX6zX7E\n",
      "1353515606377689093 2021-01-24 22:30:42 -0300 <lecterdjarin> vino una amiga de mi mamá con el muestrario de perfumes de avon y abri uno con toda la emoción y me tire un givenchy imitación encima sisoy\n",
      "1353515546273144832 2021-01-24 22:30:27 -0300 <AthleticsBMHS> New Story: Varga Shines as Berea-Midpark tops Avon, Avon Lake and Kenston in Quad  https://t.co/p3ubfBcQ7T\n",
      "1353515034849259521 2021-01-24 22:28:26 -0300 <Janineavon21> Online exclusive deals . Store link on my bio :) grab these amazing deals while stocks last. #avon #avonrepresentative  #treatyourself  #mondaymotivation  #avonuk  https://t.co/gcgEp5EOHb\n",
      "1353514976502312963 2021-01-24 22:28:12 -0300 <jajajajazmu> las manos del isiA parecen enbardunadas en crema de avon se ven re tocables\n",
      "1353514433885200384 2021-01-24 22:26:02 -0300 <candelita25> Sale una publicidad de Coca Cola, todos son negros, los blancos no toman Coca Cola. AVON mete a un hombre para competir con las mujeres, J&amp;J publicitan un hombre pasando coleto mientras la mujer está sentada. Cuerda de locos sociópatas!\n",
      "1353514083023278080 2021-01-24 22:24:39 -0300 <WenonaGlimmers> Check out Birthstone Necklace and Earring Set via @AvonInsider  https://t.co/u9ZMPMhnmO   #necklace #earring #jewlerysets #jewelry #birthstone #avon\n",
      "1353513740436647937 2021-01-24 22:23:17 -0300 <RozaAlice> #lojaemcasabru  #natura  #mamãebebê  14 99116 8911 em Loja em Casa Pronta Entrega Natura e Avon  https://t.co/P3cDcJhh85\n",
      "1353513599080128512 2021-01-24 22:22:43 -0300 <paganredfox> @acatwith2heads @AvonInsider Before Avon turned their products into cheaper versions or discontinued a lot of their products that were hella popular.\n",
      "1353513393072861184 2021-01-24 22:21:54 -0300 <ampersat_avon> Road to Masters - D3 start! | !tempo !prime  https://t.co/U4l1MmUq9L\n",
      "1353513350597025792 2021-01-24 22:21:44 -0300 <JamesLa40751350> @avoN_CPlay Fantastic\n",
      "1353512925340819456 2021-01-24 22:20:03 -0300 <CathyAvon225> Campaign 4 is here!   Look at all the Valentine Gift ideas! Shop early for your loved one! ❤️ ❤️  #Avon #brochure #valentinesday #catalog #giftideas #gifts #giftsforher #love #AvonRep #makeup #skincare #onlineshopping  https://t.co/iFlNJfttvx\n",
      "1353512399882616832 2021-01-24 22:17:57 -0300 <lucasouzaffc> “Tem que meter a porrada num gandula desse” brabao que vende avon falando\n",
      "1353512313987469312 2021-01-24 22:17:37 -0300 <barb_avon> @TimothiousSmith @OldeHippieDude @l_paterno @mjjkatpmdotme @NLPublications @jeslllll Always 😊\n",
      "1353511969521721344 2021-01-24 22:16:15 -0300 <markneilson111> @bevandton Yes, lived a bit farther west than that.  Used to go to a park there, I think it was called lakeside or something.  Maybe it was in Avon lake.\n",
      "1353511409313865728 2021-01-24 22:14:01 -0300 <shilow37> Avon Advanced Techniques Color Protection Anti Brassiness Spray 5 oz  https://t.co/G6HonMZoem\n",
      "1353510973043310594 2021-01-24 22:12:17 -0300 <feelingshidalgo> @saturnspaliwal avon\n",
      "1353510902637744131 2021-01-24 22:12:00 -0300 <shilow37> Avon Plump Pout Lip Gloss In NUDE POUT Sealed and Hard to find Discontinued   https://t.co/oR53LLAyqZ\n",
      "1353510703794180098 2021-01-24 22:11:13 -0300 <shilow37> Avon Luxurious Sweep All Over Makeup Brush  https://t.co/RIzKputet2\n",
      "1353510496146780160 2021-01-24 22:10:23 -0300 <143redaangel> Feel Angelic with our Angel Locsin Collection at Avon Shop!  Use promo code: Jen2021 at  https://t.co/5KKR0HlAov upon checkout to get P100 OFF your purchase!  Happy shopping! @therealangellocsin  @avonph  https://t.co/pGAmGtBAdn\n",
      "1353509591661862912 2021-01-24 22:06:48 -0300 <girls_avon> Congratulations Khushi Kaur!!\n",
      "1353509568949723139 2021-01-24 22:06:42 -0300 <_ElGatoDany_> @TNTSportsCL @ClubDIquique Dudamel tiene menos fútbol que revista Avon\n",
      "1353509157203111937 2021-01-24 22:05:04 -0300 <lorraine2448> Vintage AVON FENTON Hobnail White Milk glass Perfume Bottle with stopper  https://t.co/RXUrD5NOQe via @Etsy Please Retweet Perfume bottle collectors unique Fenton bottle hurry wont last great bargain #Fenton #Avon #Perfumebottle #Hobnail\n",
      "1353508334477967365 2021-01-24 22:01:48 -0300 <saravelii> Avon, Weebay, Slim Charles = the big 3\n",
      "1353508044148269058 2021-01-24 22:00:39 -0300 <AvonDealsForU> Studio 1886 Techtopian Gift Set- PECIAL OFFER: Lock Me in Love Key Chain only $8.99 with any $15 Valentines Day purchase.  https://t.co/t80x7qC6Ej  #yourcrazyavonlady #AvonBeautyBOSS #avon #makeup #avononline #avonrep #beauty #skincare #cosmetics #deal #sale  https://t.co/UlGbG7hl4D\n",
      "1353508004499492864 2021-01-24 22:00:29 -0300 <lhtsflck> @touustyles Avon el catálogo o que\n",
      "1353507949705097217 2021-01-24 22:00:16 -0300 <AvonWeather> Current Conditions in Avon at 8:00 PM: Temperature: 29→ Wind Chill: 27 Pressure: 30.1→ Average Wind Speed last 10 minutes: 1→ MPH from the SSW Maximum Wind Gust last 10 minutes: 6 MPH Daily precipitation: 0.00   https://t.co/tdz7Y0giXd\n",
      "1353507825998311424 2021-01-24 21:59:47 -0300 <saravelii> Anybody who thinks Marlo &gt; Avon isn’t my kind of person and it hasn’t failed me yet\n",
      "1353507726018670593 2021-01-24 21:59:23 -0300 <TwitrPartner> A paranormal romance with suspense and horror elements. Includes flashbacks to 1918.   Postscript by @ Barb_Avon.   paranormal romance pnr suspense #horror action adventure ghosts fiction ASMSG IARTG IAN1 Kindle# books ebooks   https://t.co/PcS29PN6yi  https://t.co/PXcatiLiHh\n",
      "1353507609765146624 2021-01-24 21:58:55 -0300 <touustyles> avon: ✝️😔🙏🏼\n",
      "1353507295276261376 2021-01-24 21:57:40 -0300 <vitorlyrioo> Os amigo cheirando álcool em gel falando q parece Avon\n",
      "1353506788323319808 2021-01-24 21:55:39 -0300 <dezandorante> colocamos um revendedor da avon e uma pessoa civilizada para conversar\n",
      "1353506407417409536 2021-01-24 21:54:09 -0300 <earcsjm> @MariaTe59556605 En la casa cuna del barrio no es 😀😀😀pero puede vender productos Avon y se hará rica😀😀😀\n",
      "1353505887651049473 2021-01-24 21:52:05 -0300 <ahsspeechteam> Avon Speech and Debate had an awesome tournament this weekend! With nearly 19 students placing in the top 6, AHS Speech brought home the 2nd place sweepstakes! #FindYourVoice  https://t.co/9undAGUmm7\n",
      "1353505855401046016 2021-01-24 21:51:57 -0300 <detinjasto> Avon se obogatio zahvaljujući meni\n",
      "1353505344459321344 2021-01-24 21:49:55 -0300 <ost_danee> @TraeselMilena Pela cor deve ser “rosa grip” q nem tem mais na revista da avon kkkkkkkkkk\n",
      "1353504499730681857 2021-01-24 21:46:34 -0300 <_gateshead> a taylor fez uma música sobre uma amiga que mudou de cidade e virou revendedora da avon e não cansa de me surpreender com sua habilidade lírica\n",
      "1353503988436643840 2021-01-24 21:44:32 -0300 <trustywusty> @avon_deer Since the 20th stuff seems to feel so much slower...\n",
      "1353503180915675136 2021-01-24 21:41:19 -0300 <GabrielaJG182> 0 dudas de que nos burlamos de los que venden Nuskin, herbalife, Avon, etc, hasta que nos volvemos adultos y nos damos cuenta que en este país a veces son las únicas opciones para muchos de tener un plato de comida en la mesa.\n",
      "1353503022358388737 2021-01-24 21:40:42 -0300 <sopefavs> vei no quinto ano eu tava comendo meu gloss da avon plmdds\n",
      "1353502291375124487 2021-01-24 21:37:47 -0300 <automonologo> o creme depilatorio da avon eh otimo e barato omg\n",
      "1353502229232308224 2021-01-24 21:37:32 -0300 <NWJS_jobs> Join the Columbine Bakery team! Our latest job opening:  https://t.co/YJ2EsjkIJU Avon, CO Rentalclerk\n",
      "1353502221598658563 2021-01-24 21:37:31 -0300 <_GetThatBread> @L4PSE_BLUE 🍁;; I wish these pictures were like those scratch and smell avon ones CJAJFJSJFJDJD SO HANDSOME WTF AWOOGA WOOGA!!\n",
      "1353502152107450371 2021-01-24 21:37:14 -0300 <sanguecorsario> @smarginatura meu primeiro gloss labial eu lembro de ter comprado na revistinha da avon por causa dessa série :~\n",
      "1353502043336486912 2021-01-24 21:36:48 -0300 <carlapinho20> @BobjeffHD @gilson10313597 Tem que corresponder à indicação de Mariza Avon da Silva.\n",
      "1353501892987531265 2021-01-24 21:36:12 -0300 <EleaYan> Alguien que le ponga el “Publicidad de AVON”\n",
      "1353501013320163328 2021-01-24 21:32:43 -0300 <vthdalgo> mas galit ako sa tatay ni avon kesa kay arielle😤\n",
      "1353500950380630016 2021-01-24 21:32:28 -0300 <aisilkarakus> Şimdi her ürüne şıp diye telefondan bakıyoruz ne heyecan kaldı ne mutluluk... avon kataloğu ya nerdesin bileğimizi sürüyoduk reprenkli cıvıl cıvıl 😭\n",
      "1353500257284284416 2021-01-24 21:29:42 -0300 <Rainbow_Ark> @avon_deer With a week to go.  I'll just see myself out.\n",
      "1353499906657423362 2021-01-24 21:28:19 -0300 <remi1402> Cc Bb c Avon\n",
      "1353499901091586049 2021-01-24 21:28:17 -0300 <CrossBunnyBlog> @avon_deer I like it.\n",
      "1353499843789004800 2021-01-24 21:28:04 -0300 <blacktelescope> @jetfury It's Avon from Blake's 7 enjoying some rare down time.\n",
      "1353499795998969856 2021-01-24 21:27:52 -0300 <OldeHippieDude> @TimothiousSmith @l_paterno @mjjkatpmdotme @NLPublications @barb_avon @jeslllll 👍👍👍🙂✌️\n",
      "1353498637444263936 2021-01-24 21:23:16 -0300 <kmsjjbb> Sunday funday ❤️#avonkickoff #avon #fascinate #innovative #teambuilder  https://t.co/JejixU6S36\n",
      "1353498615487016962 2021-01-24 21:23:11 -0300 <EnAugmentation> BARKSDALE AVON CRISTIANO SEVEN, NUMÉRO.. sérieux stavo ptn 😭😭  https://t.co/il7f47cZhR\n",
      "1353497839729586177 2021-01-24 21:20:06 -0300 <tonyal1> Right now it’s a great time to join my Avon Team ,contact me if you’re interested or have questions   sign-up extended through C9 — it’s free to join!  When the first order is $60+, we’ll add a $10 credit for your second campaign order   https://t.co/weiFM5YE37  https://t.co/UvjSCMH2ZL\n",
      "1353497630115061768 2021-01-24 21:19:16 -0300 <Theffy_GM> Tristeza da noite: O Far Away que tinha 3 anos de história comigo acabou. Obrigada por esse perfume maravilhoso, Avon!\n",
      "1353497491136684032 2021-01-24 21:18:43 -0300 <Salameleon> @avon_deer It definitely seems much longer. Time's been very weird for the last year.\n",
      "1353497447646056448 2021-01-24 21:18:32 -0300 <AVONROSSIA> 💥АКЦИЯ #AVON ТОВАР ДНЯ НА СЕГОДНЯ💥  🔥ТОЛЬКО #25ЯНВАРЯ 2021 - 01 КАТАЛОГ AVON🔥  🛍️🛍️🛍️🛍️🛍️🛍️🛍️🛍️🛍️🛍️🛍️🛍️🛍️   https://t.co/B5oPtFbSFn  #товардня #товардняavon #акция #акцияavon #товардняavonсегодня #avonstamina #подаркиavon #подарки   https://t.co/7sWIulqq9f  https://t.co/dFTZ1Lr4tt\n",
      "1353497272483512320 2021-01-24 21:17:51 -0300 <mitches2000> That Avon lady is in leather instead of being in the studio\n",
      "1353496738007568384 2021-01-24 21:15:43 -0300 <avon_deer> @Papa_Bray It is crazy it feels like it should have been six weeks ago.\n",
      "1353496567408418818 2021-01-24 21:15:03 -0300 <diariodelistmo_> Para ti ama de casa emprendedora, recuerda que en tu #SúperSánchez más cercano, ya puedes realizar el pago de tus catálogos: #AVON #JAFRA #FULLER #TUPPERWARE #YVESROCHER #NATURA #LBEL  https://t.co/M7BO6IFbl0\n",
      "1353496400487571456 2021-01-24 21:14:23 -0300 <Kellyrei007> @HawkeLiath @tracyjh8 @DerekRKing2 @SilencePossum @Tess_2020 @h_craggs @Mark_New_Writer @whytology @RebeccaEAI1307 @plstuartwrites @NigamaRv @TrailHare @Cadhla_L @crystalnapolit2 @disneymom1126 @kd_jac @JimmytGarrett1 @veil_lord @joanne_paulson @MKBeker @SPOFarrell3 @ILAGolden @inspiredbylaban @JaneCornwell10 @ElsieMcarthur @AspienBlue @OyinloyeSabrina @ShenaeChase @bayne_wendy @GeorgeYuhasz @BrokenTwigs2020 @nikki_twisted @EllaineDreams @OlivanteWriter @WorstUk @authorrkb @HenrytheElfCom1 @_TheresaHedges @FisWritingHaven @Ulam_Writes @LadyShima_H @JudyDFerrell1 @jgmacleodauthor @ravaghi @barb_avon @the_shy_alan Thanks, Liath! Busy!  https://t.co/vju7cAbXjC\n",
      "1353495759824547846 2021-01-24 21:11:50 -0300 <SarahTyner2> @VenetiaSB @nysuri The cases i have done where abusers appear to give back power - \"you would not want me...how repulsive i must seem...i hate myself...\" - only to make someone commit themselves in an illusion of agency. Not saying that is what Heyer is imagining Avon is doing but it's a pattern.\n",
      "1353495748931973122 2021-01-24 21:11:47 -0300 <skipai> @avon_deer Yeah, want longer daylight hours again though.  Happening slowly.\n",
      "1353495719542480897 2021-01-24 21:11:40 -0300 <josejai59764298> @LuisOlavarrieta @CaraotaDigital es chsvista y la avena hace negocio con la que vende Avon\n",
      "1353495660754989056 2021-01-24 21:11:26 -0300 <Papa_Bray> @avon_deer Oh my god you're right\n",
      "1353495594719916032 2021-01-24 21:11:11 -0300 <avon_deer> January truly IS a long month.\n",
      "1353495408379650049 2021-01-24 21:10:26 -0300 <avon_deer> Was Christmas only a month ago?! it seems longer.\n",
      "1353495321834385408 2021-01-24 21:10:06 -0300 <ByTheGrave> His da’s about to be selling Avon 🤣\n",
      "1353495025792020484 2021-01-24 21:08:55 -0300 <Aprylismyname> Earned two extra gift sets through my AVON 💄 promo purchases.\n",
      "1353494770363097088 2021-01-24 21:07:54 -0300 <Aprylismyname> Dropped off my AVON 💄 C04 &amp; C05 brochure and CHI hair care travel mini gift set.\n",
      "1353494743049789443 2021-01-24 21:07:48 -0300 <MarianneMantis> I was so happy to attend the Avon Kickoff 2021 virtual presentation. Avon is celebrating 135 years and this year there will be so many new products offered through Avon. In the meantime, please view my site for all other items offered through Avon.   https://t.co/5mp2Ifqfnz  https://t.co/R6Z5nQieag\n",
      "1353494553320435713 2021-01-24 21:07:02 -0300 <rosalindanne> @georgettedaily Avon.\n",
      "1353494336932106241 2021-01-24 21:06:11 -0300 <BatuuJedi> @justinaireland I’m about halfway through A Test of Courage now! I got an extra 5% off the already discounted price with my Target Red Card too! Loving Vernestra, Avon and the crew so far!\n",
      "1353494075060719621 2021-01-24 21:05:08 -0300 <SarahTyner2> @ladybnunney Quite the contrast. I'm surprised Paris would ever forgive Avon for bringing this about.\n",
      "1353493886094737408 2021-01-24 21:04:23 -0300 <Aprylismyname> Ok so...bunnnnny, I'm home from my AVON 💄 essential service trip to Senior Mama 🐇's.  I half cooked lunch and ate side servings of cauliflower/carrots with my Naked Smoothie Greens Machine, and instant coffee.\n",
      "1353493644800614400 2021-01-24 21:03:26 -0300 <Cazaput61498356> #DeQueViveVidal Muy buena pregunta.. Por ahí se beneficio de la 1050 durante el proceso militar quitandole las casas a los trabajadores.. y ahí la disculpamos todos ??  Por ahí vende avon como Florencia Kirchner.? que se yo.. le preguntarón a ella?\n",
      "1353493629478834177 2021-01-24 21:03:22 -0300 <vgoochild> você conhece aquela pessoa, a avon? AVONTADE DE TE DAR UNS BEIJOS — eu ia responder, mas sera q foi a sofia?  https://t.co/lsxJzZ8XpQ\n",
      "1353493237307240448 2021-01-24 21:01:49 -0300 <avon_deer> 30,004\n",
      "1353492804622835713 2021-01-24 21:00:05 -0300 <everystopcville> Avon St at Garrett St - routes 03 A, 03 B  https://t.co/tXDLwElpGE\n",
      "[!] No more data! Scraping will stop now.\n",
      "found 0 deleted tweets in this search.\n"
     ]
    }
   ],
   "source": [
    "# Configure\n",
    "c = twint.Config()\n",
    "c.Search = \"Avon\"\n",
    "c.Lang = \"pt\"\n",
    "c.Pandas = True\n",
    "c.Since = '2021-01-25'\n",
    "c.Until = '2021-02-10'\n",
    "twint.run.Search(c)\n",
    "\n",
    "Tweets_df = twint.storage.panda.Tweets_df"
   ]
  },
  {
   "source": [
    "# Extração dos tweets pré BBB (08/01/2021 até 24/01/2021)"
   ],
   "cell_type": "markdown",
   "metadata": {}
  },
  {
   "cell_type": "code",
   "execution_count": 5,
   "metadata": {
    "tags": [
     "outputPrepend"
    ]
   },
   "outputs": [
    {
     "output_type": "stream",
     "name": "stdout",
     "text": [
      "008 2021-01-07 22:11:34 -0300 <JackieNestle> Avon Digital Catalog -  https://t.co/xLLJlktjoU\n",
      "1347350003870650368 2021-01-07 22:10:48 -0300 <HillHamilton> #FF #peopleyoushouldfollow #Writerlift #FollowFriday @AlfonsoTortoise @AliceKayAuthor  @AliceLongaker @aliciabee @AliciaJAuthor @AliGLove @alioop326 @AlixKermes @allison_author @AllisonHawn @AllistarBanks @ban_sidhe @barb_avon @Baron1Irene  https://t.co/ZlFhbDs23p\n",
      "1347349121376657411 2021-01-07 22:07:17 -0300 <barb_avon> @quineatal Thanks, Matthew.  When I'm mobile, I'll try that.\n",
      "1347349092805058562 2021-01-07 22:07:10 -0300 <JB__Alcantara> Você conhecer a Avon?  Avontade que eu tenho de te dar uns bjos🤣\n",
      "1347349011360047110 2021-01-07 22:06:51 -0300 <halo_scot> @CDAngeloAuthor @MelJ_Writes @lifelovelily22 @Johnldeboer @vernsanders @SunIslandMusic @cmramsburg @jgmacleodauthor @Galdrafodr @eleesha @LanaCwrites @barb_avon @ElanaMcdougall @CanvassartS @Wrix2 @Readerhal54 @CarolynRuffles @CordonRoma @DBCarterAuthor @silicasun @InkDisregardit Thank you so much! You're amazing!!!!\n",
      "1347348996562579456 2021-01-07 22:06:47 -0300 <AvonPatch> What to expect from the weather this weekend in the Avon area.  https://t.co/0VTxPvtN6p\n",
      "1347348988232671232 2021-01-07 22:06:45 -0300 <barb_avon> @AmyGeorges3 Yeah, along with insomnia, I FEEL 101!\n",
      "1347348901746114560 2021-01-07 22:06:25 -0300 <TW_Principal> At the half ⁦@TriWestGBB⁩ leads 21-18 over Avon. ⁦@triwestsports⁩ ⁦@nwhsc1⁩  https://t.co/PDQ8BY3G5P\n",
      "1347348854585372674 2021-01-07 22:06:14 -0300 <barb_avon> @seanbawhite @EvelynChartres I guess I just follow the beat of my own drum 😊\n",
      "1347348776747466754 2021-01-07 22:05:55 -0300 <coreyjrowe> \"Are there plans for a roundabout at Adams/Avon or Adams/Hillendale (Meadowbrook entrance)?\"  - \"That will be decided during the environmental assessment.\"\n",
      "1347348606597156869 2021-01-07 22:05:14 -0300 <smores76> Thanks #Avon Received my ginormous box with my 9 eyeliner.  Unnecessary but thank you lol  https://t.co/Vm21FtcFSC\n",
      "1347348139003400192 2021-01-07 22:03:23 -0300 <AwholelotofBS_1> @J_2Tha_J The ladies of Mary Kay and Avon have something to say about your Arbonne flag comment....\n",
      "1347347976826531842 2021-01-07 22:02:44 -0300 <HourlyMtg> Selesnya Sanctuary #mtg  Artist: John Avon  https://t.co/Ebm1aXA9z1\n",
      "1347347544263827457 2021-01-07 22:01:01 -0300 <debruning> Adopt A Pet From Avon-Avon Lake Area Shelters: New Dogs, Cats Added This Week -  https://t.co/k3zXCKe5KY -  https://t.co/ZNGwTN2ZfX\n",
      "1347347539973070849 2021-01-07 22:01:00 -0300 <ALWrestlingClub> Shoremen 23 BMP 44  Wins for Avon Lake:  Dzik (106), FF N Perry (113), 13-3 M Valerino (120), Pin E Danniger (126), 6-3 L Marconi (170), 12-3\n",
      "1347347447211839489 2021-01-07 22:00:38 -0300 <AvonDealsForU>  https://t.co/FqRAVi1BaD  #yourcrazyavonlady #AvonBeautyBOSS #avon #makeup #avononline #jewelry  #chihair #avonrep #beauty #skincare #lipstick #cosmetics #lotion #skinsosoft  #earrings #deal #promo #sale #fragrance #perfume #eaudeparfum  https://t.co/gZTYXeCvOy\n",
      "1347347376747417600 2021-01-07 22:00:21 -0300 <quineatal> @barb_avon Stretch your back (a few simple exercises) before getting out of bed every morning.. Will help a lot..  1. knees bent pull one knee up to chest 4 times. Then other leg.  2. Knees bent rotate together left then right 4 times  3. Flat on back push ass into mattress 4 times..\n",
      "1347347375795417094 2021-01-07 22:00:21 -0300 <sweetkaii_> YEHKDKAJA EL DE AVON\n",
      "1347347333793652739 2021-01-07 22:00:11 -0300 <AvonWeather> Current Conditions in Avon at 8:00 PM: Temperature: 31→ Wind Chill: 27 Pressure: 30.3→ Average Wind Speed last 10 minutes: 2→ MPH from the NE Maximum Wind Gust last 10 minutes: 12 MPH Daily precipitation: 0.00   https://t.co/tdz7Y0giXd\n",
      "1347347290206441473 2021-01-07 22:00:01 -0300 <atticesoterica> Vintage Collectible Avon 1974 Freedom Plate in Original Box with Brochure Enoch Wedgwood (Tunstall) Ltd., England.  https://t.co/VfetQyKBtp via @Etsy\n",
      "1347347151224004615 2021-01-07 21:59:28 -0300 <KeanaBanana98> I finished The Light of the Jedi last night and so far Bell Zettifar is my favourite High Republic character. I haven’t read the comic yet and I only just started A Test of Courage (but Vernestra and Avon might be up there in my favourites soon) so we’ll see.\n",
      "1347347100636479490 2021-01-07 21:59:15 -0300 <TwitrPartner> When Lina disappears, love fuels James's drive to discover the truth, by using the clues hidden in the notes he finds underneath his door.  Postscript by @ Barb_Avon.  #paranormal romance suspense horror adventure action ASMSG IARTG Kindle books #ebooks  https://t.co/pwU0XBd6iO\n",
      "1347347081858600966 2021-01-07 21:59:11 -0300 <vitoria_oly> Jesus q o senhor me segure pra n comprar tantos cremes/oleos/maquiagens da natura/avon/botica 🙏🏿\n",
      "1347346974467567617 2021-01-07 21:58:45 -0300 <rogluyis> @mpassariello @Miguel13Marquez @ChiguireBipolar Sólo 500 millones? SÓLO ÉSO? Entonces debió es vender productos AVÓN como La Hija de Chávez que tiene muchos más Millones y millonas  https://t.co/jVaioBXdys\n",
      "1347346933531238400 2021-01-07 21:58:36 -0300 <vitoria_oly> Me da uma paz ficad foleando a rebista moda e casa da avon kkkkk e eu nem compro nd\n",
      "1347346668396695553 2021-01-07 21:57:32 -0300 <donyatheplanet> I miss Avon lady :(  https://t.co/Ev5Rs5wLsA\n",
      "1347346591267627009 2021-01-07 21:57:14 -0300 <tridentOPsk> @mytoyoyrhree @michael_wh33l3r @miniminter Your dad sells avon\n",
      "1347346514394406912 2021-01-07 21:56:56 -0300 <gelatodiavocado> @vichinievsky @ratonica_ O da avon faz o mesmo comigo\n",
      "1347346224526073857 2021-01-07 21:55:47 -0300 <AvonStylista> Birthday Balm #Lipcrayon in Surprise!!  shop here:   https://t.co/Pm7i8CkLuw #avon #avonrep #makeup #makeuplook #lotd  https://t.co/50biX6hV98\n",
      "1347345990672654345 2021-01-07 21:54:51 -0300 <brissallorett> Estoy tan al pedo en mi casa que en breve me pongo a vender avon :/\n",
      "1347345955163680769 2021-01-07 21:54:42 -0300 <AvonStylista> #icons #avon #vintageavon  https://t.co/CoTVDiXVwX\n",
      "1347345695125221376 2021-01-07 21:53:40 -0300 <liviavitoria_m> minha mãe trouxe revista da avon e agora quero comprar tudo\n",
      "1347345658097897475 2021-01-07 21:53:32 -0300 <LanaCwrites> @CDAngeloAuthor @MelJ_Writes @halo_scot @lifelovelily22 @Johnldeboer @vernsanders @SunIslandMusic @cmramsburg @jgmacleodauthor @Galdrafodr @eleesha @barb_avon @ElanaMcdougall @CanvassartS @Wrix2 @Readerhal54 @CarolynRuffles @CordonRoma @DBCarterAuthor @silicasun @InkDisregardit Thanks so much for the shout out! That just made my day!\n",
      "1347345005128552448 2021-01-07 21:50:56 -0300 <LevisMama405> Check out what I just added to my closet on Poshmark: Avon Doll.  https://t.co/U4byBSQFPp via @poshmarkapp #shopmycloset\n",
      "1347344971641225216 2021-01-07 21:50:48 -0300 <LevisMama405> Check out what I just added to my closet on Poshmark: Avon Doll.  https://t.co/oKSnBtrmWq via @poshmarkapp #shopmycloset\n",
      "1347344747082493952 2021-01-07 21:49:54 -0300 <TW_Principal> After 1 ⁦@TriWestGBB⁩ trail Avon 10-9. ⁦@triwestsports⁩ ⁦@nwhsc1⁩  https://t.co/zgFDngjmAb\n",
      "1347344588151738368 2021-01-07 21:49:16 -0300 <seanbawhite> @barb_avon @EvelynChartres Just found a breakdown of a survey of 750 Canadians.   https://t.co/KhSKoqwiAW  Seems word of mouth ranks pretty high, but I heard that's true of everyone/everywhere.\n",
      "1347343522576400390 2021-01-07 21:45:02 -0300 <AvonStylista> Our #valentinesday jewelry!!  Shop here:   https://t.co/LFICDzzVnU #avon #jewelry #valentine  https://t.co/IXagmEtUeP\n",
      "1347343171441864707 2021-01-07 21:43:39 -0300 <Sandra67898629> @g_garc2 Indicado pela milionária da Avon. Esperar o quê?\n",
      "1347343015745093633 2021-01-07 21:43:02 -0300 <coreyjrowe> Discussion of a road diet in the Drexelgate subdivision bounded by Livernois, Avon, Hamlin, and Rochester Road.  Addition of sharrows and a paved walkway  https://t.co/st44nOhQu2\n",
      "1347342837172600832 2021-01-07 21:42:19 -0300 <CristianHeck_> @falsecornelia @shar_payevans Quizás lo compran en Avon\n",
      "1347342664459542531 2021-01-07 21:41:38 -0300 <jgmacleodauthor> @CDAngeloAuthor @MelJ_Writes @halo_scot @lifelovelily22 @Johnldeboer @vernsanders @SunIslandMusic @cmramsburg @Galdrafodr @eleesha @LanaCwrites @barb_avon @ElanaMcdougall @CanvassartS @Wrix2 @Readerhal54 @CarolynRuffles @CordonRoma @DBCarterAuthor @silicasun @InkDisregardit Thank you so much! 😊\n",
      "1347342468640071682 2021-01-07 21:40:51 -0300 <DemonsWestlake> The Westlake Demons dropped their SWC match to Avon 41-30. Earning victories for the Demons were: 106 Cole Yuhas 138 Hatem Zayed 152 Aiden Ashburn 160 Cole Yuhas  170 Danny Keenan 195 Mackey Keenan  The Demons return to action Saturday at the SWC championships!\n",
      "1347342206340837377 2021-01-07 21:39:49 -0300 <avon_kerri> @realDonaldTrump So sick of you.  https://t.co/Ak36ehmXKk\n",
      "1347342031048364035 2021-01-07 21:39:07 -0300 <_Avon_UK_> Avon | Our Purpose #WatchMeNow   https://t.co/cQ6rUrQrgk\n",
      "1347342012886953990 2021-01-07 21:39:02 -0300 <SeaFDIncidents> Illegal Burn - 5616 S Avon St - E33 - 4:36\n",
      "1347341933245558788 2021-01-07 21:38:43 -0300 <SiteSissy> Avon Gel Nail Enamel &amp; Lipgloss Set. 1 x Roses Are Red Gel Nail Enamel &amp; 1 x Fiery Red Glazewear Lipgloss. £12.99 Due to the items, this set can only be sent to a UK postal address only. #thesissysite #thesissysiteshop  https://t.co/evSk3l7O1p\n",
      "1347341905433157640 2021-01-07 21:38:37 -0300 <Adriana1Boneca> @DewesVania Nao sei amiga; ele e da Avon\n",
      "1347341767985815553 2021-01-07 21:38:04 -0300 <rocksdragons> comprei um protetor solar com base por 14 counto depois de jogar o joguinho pra conseguir um descontim avon renew pra não envelhecer\n",
      "1347341757994860545 2021-01-07 21:38:02 -0300 <seattle911> Illegal Burn @ 5616 S Avon St (E33)\n",
      "1347341454331535361 2021-01-07 21:36:49 -0300 <ireland_jaws> @IvankaTrump @realDonaldTrump And yer da could be selling Avon very shortly.... Ya trout! 😂👍\n",
      "1347341335708237830 2021-01-07 21:36:21 -0300 <QuakerSports> Avon vs. Tri-West up next. Watch it live.\n",
      "1347341309795848200 2021-01-07 21:36:15 -0300 <avoneagles> Eagles Win on Senior Night!  Avon defeats Westlake 41-30  https://t.co/5tBmmJ3i95\n",
      "1347341002202378240 2021-01-07 21:35:01 -0300 <perchal> @Matiassowsky @szablini Ze skoczkinią Kingą Rajdą w wieku trzynastu lat raczej o Avon nie chodziło.\n",
      "1347340911940935683 2021-01-07 21:34:40 -0300 <J_Sacarose> Elon Musk dono da Avon\n",
      "1347340689173045251 2021-01-07 21:33:47 -0300 <CDAngeloAuthor> @barb_avon @MelJ_Writes @halo_scot @lifelovelily22 @Johnldeboer @vernsanders @SunIslandMusic @cmramsburg @jgmacleodauthor @Galdrafodr @eleesha @LanaCwrites @ElanaMcdougall @CanvassartS @Wrix2 @Readerhal54 @CarolynRuffles @CordonRoma @DBCarterAuthor @silicasun @InkDisregardit Awwwww\n",
      "1347340508582924288 2021-01-07 21:33:04 -0300 <JivemasterJ> @backxwash I liked Avon better as a character but Stringer was no doubt better written.\n",
      "1347340173625982976 2021-01-07 21:31:44 -0300 <vichinievsky> @ratonica_ amiga eu uso o da Vult, mas faz tempo que não compro e a mel me contou que tinha gente reclamando da fórmula mais atual dele  quem disse TB é bom mas vc teria que ir na loja   dailus eu odeio e o avon de embalagem azul faz minha pele queimar (e de mais gente que comentei isso)\n",
      "1347339916087332866 2021-01-07 21:30:43 -0300 <lucasmzanella> Elon Musk, o dono da Avon\n",
      "1347339871153659904 2021-01-07 21:30:32 -0300 <jrfwitty> @barb_avon Super moist and tasty?   😆\n",
      "1347339638848057345 2021-01-07 21:29:36 -0300 <ellak2000> @tonycarroll14 @Haveawordpod Your da sells Avon\n",
      "1347339602265317376 2021-01-07 21:29:28 -0300 <barb_avon> @CDAngeloAuthor @MelJ_Writes @halo_scot @lifelovelily22 @Johnldeboer @vernsanders @SunIslandMusic @cmramsburg @jgmacleodauthor @Galdrafodr @eleesha @LanaCwrites @ElanaMcdougall @CanvassartS @Wrix2 @Readerhal54 @CarolynRuffles @CordonRoma @DBCarterAuthor @silicasun @InkDisregardit I'm so grateful for you, too!  https://t.co/6AyZEZn1N0\n",
      "1347339508354789380 2021-01-07 21:29:05 -0300 <DBCarterAuthor> @CDAngeloAuthor @MelJ_Writes @halo_scot @lifelovelily22 @Johnldeboer @vernsanders @SunIslandMusic @cmramsburg @jgmacleodauthor @Galdrafodr @eleesha @LanaCwrites @barb_avon @ElanaMcdougall @CanvassartS @Wrix2 @Readerhal54 @CarolynRuffles @CordonRoma @silicasun @InkDisregardit Many thanks CD!\n",
      "1347339317572726784 2021-01-07 21:28:20 -0300 <barb_avon> @jrfwitty 48 is like rotisserie chicken! 😂\n",
      "1347339213935677444 2021-01-07 21:27:55 -0300 <Radio4ctive> Elon musk enriqueceu vendendo o perfume musk da avon repassem\n",
      "1347338838809726978 2021-01-07 21:26:26 -0300 <Power_Angelita> @avoN_CPlay ［reply 4 / 4］ You said it would be \"really nice\" \"to see\" \"Alita with wings\".  i have weaponized-wings.  But \"hell\" is Not the source.  It is Heaven instead.  The Alita Army has “Battle Angels” and angelic choirs.  Because of the reasons above, i grant you the rank of throne.\n",
      "1347338810439454726 2021-01-07 21:26:19 -0300 <Power_Angelita> @avoN_CPlay ［reply 3 / 4］ \"[...] Ido looks away there for a second. This always makes me think that Waltz was surprised by what Alita/Rosa just did there, as if the yelling / table-smashing wasn't in the script. [...]\".  Your awareness is impressive.\n",
      "1347338783168094221 2021-01-07 21:26:12 -0300 <Power_Angelita> @avoN_CPlay ［reply 2 / 4］ And you noticed something here: Twitter. @avoN_CPlay. 2020 Dec 29 at 1833. &lt; https://t.co/zpSSx8FjEW&gt;\n",
      "1347338777052786688 2021-01-07 21:26:11 -0300 <biah_1050> @bchartsnet Profissão: revendora Avon e cantora nas horas vagas  https://t.co/8suAjZjHnT\n",
      "1347338767619788804 2021-01-07 21:26:09 -0300 <santieletavares> O auge da minha tarde foi a minha mãe foleando o catálogo do/a Avon e falando que se o homi do anúncio viesse junto, ela comprava. Oxii😳🤣\n",
      "1347338751576563714 2021-01-07 21:26:05 -0300 <Power_Angelita> @avoN_CPlay ［reply 1 / 4］ ［anno Domini 2021 Jan 8 at 0026 UTC］ To avoN_C (@avoN_CPlay): Do *Not* be afraid.  Dear child, i'm sure you love Alita greatly. You set Alita before yourself (in front of computer).\n",
      "1347338491504586754 2021-01-07 21:25:03 -0300 <CellKF> Elon Musk não é aquele perfume horroroso da avon\n",
      "1347338270900965377 2021-01-07 21:24:10 -0300 <camgirlcp> @EllabarSuicide tenho um da avon mas nao renew nao deu certo, outras marcas tbm mais populares, sundown, nivea, lorela... so nao tentei os caros kkk\n",
      "1347337439506026497 2021-01-07 21:20:52 -0300 <CDAngeloAuthor> @MelJ_Writes @halo_scot @lifelovelily22 @Johnldeboer @vernsanders @SunIslandMusic @cmramsburg @jgmacleodauthor @Galdrafodr @eleesha @LanaCwrites @barb_avon @ElanaMcdougall @CanvassartS @Wrix2 @Readerhal54 @CarolynRuffles @CordonRoma @DBCarterAuthor @silicasun @InkDisregardit\n",
      "1347337058231074816 2021-01-07 21:19:21 -0300 <jrfwitty> @barb_avon Good thing you're still a spring chicken!\n",
      "1347337052615020545 2021-01-07 21:19:20 -0300 <easytini> la producción de laligera: el canje con Avon\n",
      "1347336785874051075 2021-01-07 21:18:16 -0300 <barb_avon> @seanbawhite @EvelynChartres We like the same books as everyone else 😂  My go-to is Amazon.\n",
      "1347336587332509698 2021-01-07 21:17:29 -0300 <OrioleAthletics> Brownsburg wins to advance to Saturday Night's  County Championship 6:00pm at Avon High School. They will play the winner of the Avon/Tri West game.  https://t.co/aga6LI6ph6\n",
      "1347336543569117185 2021-01-07 21:17:18 -0300 <Power_Angelita> @avoN_CPlay @vladdie777 @kranberrijam ［reply 1 / 1］ ［anno Domini 2021 Jan 8 at 0017 UTC］ To avoN_C (@avoN_CPlay): It's cool how you set Alita before you.  ¡And that's a nice keyboard and mouse!\n",
      "1347336527056166912 2021-01-07 21:17:15 -0300 <soubeyfan> O nível da Rihanna de anunciar a venda das Avon dela com projeção no maior prédio de DUBAI, meu deus mulheeeeeeeeeer  Rihanna me adota e me ensina a ser como tu PF\n",
      "1347336253545598981 2021-01-07 21:16:09 -0300 <drjparente> @barstoolsports @DrinkMamitas Another small business that could use help? @VitalityOhio based in Avon Ohio. They specialize in physician guided weight loss and have been decimated by Covid. The owner? A single mom who works in the ER, fighting Covid, working 2 jobs to stay afloat.  https://t.co/z6LAVzBFBV\n",
      "1347336154916466690 2021-01-07 21:15:46 -0300 <MVanTryon> Brownsburg will play the winner of Avon and Tri-West in the Hendricks County title game on Saturday, where the Bulldogs will aim for a three-peat.\n",
      "1347335936384917507 2021-01-07 21:14:54 -0300 <naofalodeamor> @ratonica_ eu uso o líquido da avon nunca usei outro porque minha vizinha é revendedora e faz no precinho pra mim então n sei kskfkskfks\n",
      "1347335856529395714 2021-01-07 21:14:35 -0300 <jones_jezabel> I am available now in Vail, Breckenridge Keystone Avon Colorado, United States! To contact me, visit  https://t.co/pQ7i4jtSqT  https://t.co/Fq4nDs7idF\n",
      "1347335513494192133 2021-01-07 21:13:13 -0300 <COINered2004> #vintage #40s #ViewMaster single REEL #Shakespeare's Stratford On Avon Warwickshire England  https://t.co/GQeu1AAdF2 via #etsy #EtsySeller\n",
      "1347335482577969153 2021-01-07 21:13:05 -0300 <barb_avon> @LeonardTillerm1 My God! I didn't know.   Welcome back and I'm so glad you're okay.\n",
      "1347335125831454726 2021-01-07 21:11:40 -0300 <barb_avon> @MariaAPerez1 Thanks! Just wished something helped. Tried everything.\n",
      "1347335027642679297 2021-01-07 21:11:17 -0300 <vler_vler> @FideUbermensch @gibranrr No pues Fidelubermensch a de cagar flores....con olores a Chanel 5 y sus patas han de oler a perfume de Avon.....\n",
      "1347334882876395524 2021-01-07 21:10:43 -0300 <MariaAPerez1> @barb_avon Oh boy...I hope you feel better soon\n",
      "1347334811866824704 2021-01-07 21:10:26 -0300 <barb_avon> @NickAnthonyMic1 Ugh! I hope you're all better soon.\n",
      "1347334773245681670 2021-01-07 21:10:16 -0300 <quayz180> I think I found a polite yet very accurate way to refer to trump supporters  They are the types of people that will invest in multi level marketing businesses and truly believe they will become millionaires from it.   They are the reason Avon and Metabolite exist\n",
      "1347334635425046528 2021-01-07 21:09:44 -0300 <NickAnthonyMic1> @barb_avon I’m still sore but I’m at least mobile.  So for now I’d say back pain is worse\n",
      "1347334112772845571 2021-01-07 21:07:39 -0300 <robin_worden> re:tune Inner Beauty - AVON  Feel good on the inside so you can look great on the outside.  https://t.co/Hi0RO0TUZ2\n",
      "1347333921655185410 2021-01-07 21:06:53 -0300 <li19rose> Chocada com esse esmalte da Avon  Pintei a unha no ano novo e até agora não saiu uma lasquinha sequer.\n",
      "1347333903447699456 2021-01-07 21:06:49 -0300 <exilesimmons> @timotheehals ur da sells avon\n",
      "1347333787336761354 2021-01-07 21:06:21 -0300 <barb_avon> @NickAnthonyMic1 Oh my gosh! Are you better now?\n",
      "1347333657565028354 2021-01-07 21:05:50 -0300 <barb_avon> @jrfwitty No, it isn't!\n",
      "1347333612312649731 2021-01-07 21:05:40 -0300 <barb_avon> @Gould_A_T I know. I'm sorry! This is us...😂  https://t.co/8n6SZUynwZ\n",
      "1347333570008899591 2021-01-07 21:05:29 -0300 <Katie_Cronin> @PatrickIMcMahon @MarianSAnderson @RunRedMouse Yes it’s an impossible dilemma and Corby is unfortunately very vulnerable given the number of people employed in logistics. It’s maybe time for some of the big employers (Matalan, Avon etc) to examine whether they are really offering critical services at this time.\n",
      "1347333507102765056 2021-01-07 21:05:14 -0300 <NickAnthonyMic1> @barb_avon Me too last week shifting in my chair I trapped a nerve and was stuck on all fours on the floor for around three hours\n",
      "1347333315574038529 2021-01-07 21:04:29 -0300 <exilesimmons> @timotheehals YER DAD SELLS AVON\n",
      "1347333288772456449 2021-01-07 21:04:22 -0300 <ArielBr3492> @narelladotta @javiiae Bueno danos laburo amiga copate somos bueno vendedores de Avon😉😉\n",
      "1347332914338476033 2021-01-07 21:02:53 -0300 <Ms_Tyie>  https://t.co/RLtO6LVFW3 #Avon #Avonrep #Healthysolution #DMVRealtor #Slimmingproducts\n",
      "1347332615360024577 2021-01-07 21:01:42 -0300 <jrfwitty> @barb_avon Getting old is not for wimps that's for sure.\n",
      "1347332526092800002 2021-01-07 21:01:21 -0300 <Gould_A_T> @barb_avon It's a tie and I feel your pain\n",
      "1347332355728560131 2021-01-07 21:00:40 -0300 <barb_avon> @namaferd Awwww!\n",
      "[!] No more data! Scraping will stop now.\n",
      "found 0 deleted tweets in this search.\n"
     ]
    }
   ],
   "source": [
    "# Configure\n",
    "c = twint.Config()\n",
    "c.Search = \"Avon\"\n",
    "c.Lang = \"pt\"\n",
    "c.Pandas = True\n",
    "c.Since = '2021-01-08'\n",
    "c.Until = '2021-01-24'\n",
    "twint.run.Search(c)\n",
    "\n",
    "pre_bbb = twint.storage.panda.Tweets_df"
   ]
  },
  {
   "source": [
    "# Limpeza dos tweets - Avon"
   ],
   "cell_type": "markdown",
   "metadata": {}
  },
  {
   "source": [
    "### 1 - Junção dos dados pré e pós BBB"
   ],
   "cell_type": "markdown",
   "metadata": {}
  },
  {
   "cell_type": "code",
   "execution_count": 6,
   "metadata": {},
   "outputs": [],
   "source": [
    "#União dos datasets e marcação do período\n",
    "Tweets_df['pos_bbb'] = 1\n",
    "pre_bbb['pos_bbb'] = 0"
   ]
  },
  {
   "cell_type": "code",
   "execution_count": 7,
   "metadata": {},
   "outputs": [],
   "source": [
    "full_tweets = Tweets_df.append(pre_bbb)"
   ]
  },
  {
   "cell_type": "code",
   "execution_count": 8,
   "metadata": {},
   "outputs": [
    {
     "output_type": "execute_result",
     "data": {
      "text/plain": [
       "(84602, 39)"
      ]
     },
     "metadata": {},
     "execution_count": 8
    }
   ],
   "source": [
    "full_tweets.shape"
   ]
  },
  {
   "source": [
    "Temos ao todo 84602 tweets extraídos e 39 colunas"
   ],
   "cell_type": "markdown",
   "metadata": {}
  },
  {
   "source": [
    "### 2 - Seleção de features"
   ],
   "cell_type": "markdown",
   "metadata": {}
  },
  {
   "cell_type": "code",
   "execution_count": 9,
   "metadata": {},
   "outputs": [
    {
     "output_type": "execute_result",
     "data": {
      "text/plain": [
       "Index(['id', 'conversation_id', 'created_at', 'date', 'timezone', 'place',\n",
       "       'tweet', 'language', 'hashtags', 'cashtags', 'user_id', 'user_id_str',\n",
       "       'username', 'name', 'day', 'hour', 'link', 'urls', 'photos', 'video',\n",
       "       'thumbnail', 'retweet', 'nlikes', 'nreplies', 'nretweets', 'quote_url',\n",
       "       'search', 'near', 'geo', 'source', 'user_rt_id', 'user_rt',\n",
       "       'retweet_id', 'reply_to', 'retweet_date', 'translate', 'trans_src',\n",
       "       'trans_dest', 'pos_bbb'],\n",
       "      dtype='object')"
      ]
     },
     "metadata": {},
     "execution_count": 9
    }
   ],
   "source": [
    "#listando as colunas\n",
    "full_tweets.columns"
   ]
  },
  {
   "cell_type": "code",
   "execution_count": 10,
   "metadata": {},
   "outputs": [
    {
     "output_type": "stream",
     "name": "stdout",
     "text": [
      "<class 'pandas.core.frame.DataFrame'>\nInt64Index: 84602 entries, 0 to 28642\nData columns (total 39 columns):\n #   Column           Non-Null Count  Dtype  \n---  ------           --------------  -----  \n 0   id               84602 non-null  object \n 1   conversation_id  84602 non-null  object \n 2   created_at       84602 non-null  float64\n 3   date             84602 non-null  object \n 4   timezone         84602 non-null  object \n 5   place            84602 non-null  object \n 6   tweet            84602 non-null  object \n 7   language         84602 non-null  object \n 8   hashtags         84602 non-null  object \n 9   cashtags         84602 non-null  object \n 10  user_id          84602 non-null  int64  \n 11  user_id_str      84602 non-null  object \n 12  username         84602 non-null  object \n 13  name             84602 non-null  object \n 14  day              84602 non-null  int64  \n 15  hour             84602 non-null  object \n 16  link             84602 non-null  object \n 17  urls             84602 non-null  object \n 18  photos           84602 non-null  object \n 19  video            84602 non-null  int64  \n 20  thumbnail        84602 non-null  object \n 21  retweet          84602 non-null  bool   \n 22  nlikes           84602 non-null  int64  \n 23  nreplies         84602 non-null  int64  \n 24  nretweets        84602 non-null  int64  \n 25  quote_url        84602 non-null  object \n 26  search           84602 non-null  object \n 27  near             84602 non-null  object \n 28  geo              84602 non-null  object \n 29  source           84602 non-null  object \n 30  user_rt_id       84602 non-null  object \n 31  user_rt          84602 non-null  object \n 32  retweet_id       84602 non-null  object \n 33  reply_to         84602 non-null  object \n 34  retweet_date     84602 non-null  object \n 35  translate        84602 non-null  object \n 36  trans_src        84602 non-null  object \n 37  trans_dest       84602 non-null  object \n 38  pos_bbb          84602 non-null  int64  \ndtypes: bool(1), float64(1), int64(7), object(30)\nmemory usage: 25.3+ MB\n"
     ]
    }
   ],
   "source": [
    "#avaliando dados nulos\n",
    "full_tweets.info()"
   ]
  },
  {
   "cell_type": "code",
   "execution_count": 11,
   "metadata": {},
   "outputs": [],
   "source": [
    "columns = ['id', 'date', 'place',\n",
    "       'tweet', 'language', 'hashtags', 'day', 'hour', 'nlikes', 'nreplies', 'nretweets',\n",
    "       'search', 'pos_bbb']"
   ]
  },
  {
   "cell_type": "code",
   "execution_count": 12,
   "metadata": {},
   "outputs": [],
   "source": [
    "#Seleção de colunas relevantes\n",
    "ft_tweets = full_tweets[columns]"
   ]
  },
  {
   "cell_type": "code",
   "execution_count": 13,
   "metadata": {},
   "outputs": [
    {
     "output_type": "execute_result",
     "data": {
      "text/plain": [
       "False    84602\n",
       "Name: id, dtype: int64"
      ]
     },
     "metadata": {},
     "execution_count": 13
    }
   ],
   "source": [
    "#validação de tweets duplicados\n",
    "ft_tweets.id.duplicated().value_counts()"
   ]
  },
  {
   "source": [
    "Não existem tweets com o mesmo ID"
   ],
   "cell_type": "markdown",
   "metadata": {}
  },
  {
   "cell_type": "code",
   "execution_count": 14,
   "metadata": {},
   "outputs": [
    {
     "output_type": "execute_result",
     "data": {
      "text/plain": [
       "en     41825\n",
       "pt     28099\n",
       "es      5537\n",
       "und     2456\n",
       "fr      1568\n",
       "tl       880\n",
       "it       860\n",
       "tr       517\n",
       "in       509\n",
       "de       459\n",
       "ru       281\n",
       "ja       272\n",
       "nl       183\n",
       "pl       145\n",
       "ro       141\n",
       "et       109\n",
       "ur        96\n",
       "fi        83\n",
       "ht        76\n",
       "ca        65\n",
       "no        60\n",
       "ar        57\n",
       "hi        56\n",
       "cs        37\n",
       "sv        35\n",
       "hu        25\n",
       "cy        24\n",
       "lv        22\n",
       "sl        16\n",
       "lt        15\n",
       "el        15\n",
       "vi        14\n",
       "uk        14\n",
       "ko        11\n",
       "bg         7\n",
       "is         7\n",
       "eu         6\n",
       "da         5\n",
       "fa         5\n",
       "zh         3\n",
       "th         3\n",
       "or         1\n",
       "iw         1\n",
       "sr         1\n",
       "am         1\n",
       "Name: language, dtype: int64"
      ]
     },
     "metadata": {},
     "execution_count": 14
    }
   ],
   "source": [
    "#Avaliação da localidade dos tweets\n",
    "ft_tweets.language.value_counts()"
   ]
  },
  {
   "source": [
    "Boa parte dos tweets vieram com o idioma Inglês. Vamos explorar para avaliar se são relevantes ou vieram por engano."
   ],
   "cell_type": "markdown",
   "metadata": {}
  },
  {
   "cell_type": "code",
   "execution_count": 16,
   "metadata": {},
   "outputs": [
    {
     "output_type": "execute_result",
     "data": {
      "text/plain": [
       "0                        @asianwrld @FearVentureGGs ohh no\n",
       "2        Congratulations to all you \"People on the Move...\n",
       "5        New 40 Yard Dash PR’s 2/8/21  Cooper McDannald...\n",
       "11        The Avon. Stratford. ♥️  https://t.co/bFrgBosUoN\n",
       "12                     @KingdomElla @equibal_m I claim it🙏\n",
       "                               ...                        \n",
       "28635    @PatrickIMcMahon @MarianSAnderson @RunRedMouse...\n",
       "28636    @barb_avon Me too last week shifting in my cha...\n",
       "28637                     @timotheehals YER DAD SELLS AVON\n",
       "28640    @barb_avon Getting old is not for wimps that's...\n",
       "28641           @barb_avon It's a tie and I feel your pain\n",
       "Name: tweet, Length: 41825, dtype: object"
      ]
     },
     "metadata": {},
     "execution_count": 16
    }
   ],
   "source": [
    "ft_tweets.query(\"language == 'en'\")['tweet']"
   ]
  },
  {
   "source": [
    "Vamos tentar detectar se existe algum tweet que foi marcado no idioma inglês e que estão em Português."
   ],
   "cell_type": "markdown",
   "metadata": {}
  },
  {
   "cell_type": "code",
   "execution_count": 17,
   "metadata": {},
   "outputs": [
    {
     "output_type": "execute_result",
     "data": {
      "text/plain": [
       "                        id                 date place  \\\n",
       "0      1358928392947568641  2021-02-08 20:59:11         \n",
       "2      1358928123857948673  2021-02-08 20:58:07         \n",
       "5      1358927649834467329  2021-02-08 20:56:14         \n",
       "11     1358926652898762755  2021-02-08 20:52:16         \n",
       "12     1358926614789189634  2021-02-08 20:52:07         \n",
       "...                    ...                  ...   ...   \n",
       "28635  1347333570008899591  2021-01-07 21:05:29         \n",
       "28636  1347333507102765056  2021-01-07 21:05:14         \n",
       "28637  1347333315574038529  2021-01-07 21:04:29         \n",
       "28640  1347332615360024577  2021-01-07 21:01:42         \n",
       "28641  1347332526092800002  2021-01-07 21:01:21         \n",
       "\n",
       "                                                   tweet language  \\\n",
       "0                      @asianwrld @FearVentureGGs ohh no       en   \n",
       "2      Congratulations to all you \"People on the Move...       en   \n",
       "5      New 40 Yard Dash PR’s 2/8/21  Cooper McDannald...       en   \n",
       "11      The Avon. Stratford. ♥️  https://t.co/bFrgBosUoN       en   \n",
       "12                   @KingdomElla @equibal_m I claim it🙏       en   \n",
       "...                                                  ...      ...   \n",
       "28635  @PatrickIMcMahon @MarianSAnderson @RunRedMouse...       en   \n",
       "28636  @barb_avon Me too last week shifting in my cha...       en   \n",
       "28637                   @timotheehals YER DAD SELLS AVON       en   \n",
       "28640  @barb_avon Getting old is not for wimps that's...       en   \n",
       "28641         @barb_avon It's a tie and I feel your pain       en   \n",
       "\n",
       "                                                hashtags  day hour  nlikes  \\\n",
       "0                                                     []    1   20       0   \n",
       "2      [4liferesearch, medifast, jeunesse, beautycoun...    1   20       2   \n",
       "5                                                     []    1   20       3   \n",
       "11                                                    []    1   20       3   \n",
       "12                                                    []    1   20       0   \n",
       "...                                                  ...  ...  ...     ...   \n",
       "28635                                                 []    4   21       1   \n",
       "28636                                                 []    4   21       0   \n",
       "28637                                                 []    4   21       0   \n",
       "28640                                                 []    4   21       1   \n",
       "28641                                                 []    4   21       1   \n",
       "\n",
       "       nreplies  nretweets search  pos_bbb  \n",
       "0             1          0   Avon        1  \n",
       "2             0          1   Avon        1  \n",
       "5             1          1   Avon        1  \n",
       "11            0          0   Avon        1  \n",
       "12            0          0   Avon        1  \n",
       "...         ...        ...    ...      ...  \n",
       "28635         1          0   Avon        0  \n",
       "28636         1          0   Avon        0  \n",
       "28637         1          0   Avon        0  \n",
       "28640         1          0   Avon        0  \n",
       "28641         1          0   Avon        0  \n",
       "\n",
       "[41825 rows x 13 columns]"
      ],
      "text/html": "<div>\n<style scoped>\n    .dataframe tbody tr th:only-of-type {\n        vertical-align: middle;\n    }\n\n    .dataframe tbody tr th {\n        vertical-align: top;\n    }\n\n    .dataframe thead th {\n        text-align: right;\n    }\n</style>\n<table border=\"1\" class=\"dataframe\">\n  <thead>\n    <tr style=\"text-align: right;\">\n      <th></th>\n      <th>id</th>\n      <th>date</th>\n      <th>place</th>\n      <th>tweet</th>\n      <th>language</th>\n      <th>hashtags</th>\n      <th>day</th>\n      <th>hour</th>\n      <th>nlikes</th>\n      <th>nreplies</th>\n      <th>nretweets</th>\n      <th>search</th>\n      <th>pos_bbb</th>\n    </tr>\n  </thead>\n  <tbody>\n    <tr>\n      <th>0</th>\n      <td>1358928392947568641</td>\n      <td>2021-02-08 20:59:11</td>\n      <td></td>\n      <td>@asianwrld @FearVentureGGs ohh no</td>\n      <td>en</td>\n      <td>[]</td>\n      <td>1</td>\n      <td>20</td>\n      <td>0</td>\n      <td>1</td>\n      <td>0</td>\n      <td>Avon</td>\n      <td>1</td>\n    </tr>\n    <tr>\n      <th>2</th>\n      <td>1358928123857948673</td>\n      <td>2021-02-08 20:58:07</td>\n      <td></td>\n      <td>Congratulations to all you \"People on the Move...</td>\n      <td>en</td>\n      <td>[4liferesearch, medifast, jeunesse, beautycoun...</td>\n      <td>1</td>\n      <td>20</td>\n      <td>2</td>\n      <td>0</td>\n      <td>1</td>\n      <td>Avon</td>\n      <td>1</td>\n    </tr>\n    <tr>\n      <th>5</th>\n      <td>1358927649834467329</td>\n      <td>2021-02-08 20:56:14</td>\n      <td></td>\n      <td>New 40 Yard Dash PR’s 2/8/21  Cooper McDannald...</td>\n      <td>en</td>\n      <td>[]</td>\n      <td>1</td>\n      <td>20</td>\n      <td>3</td>\n      <td>1</td>\n      <td>1</td>\n      <td>Avon</td>\n      <td>1</td>\n    </tr>\n    <tr>\n      <th>11</th>\n      <td>1358926652898762755</td>\n      <td>2021-02-08 20:52:16</td>\n      <td></td>\n      <td>The Avon. Stratford. ♥️  https://t.co/bFrgBosUoN</td>\n      <td>en</td>\n      <td>[]</td>\n      <td>1</td>\n      <td>20</td>\n      <td>3</td>\n      <td>0</td>\n      <td>0</td>\n      <td>Avon</td>\n      <td>1</td>\n    </tr>\n    <tr>\n      <th>12</th>\n      <td>1358926614789189634</td>\n      <td>2021-02-08 20:52:07</td>\n      <td></td>\n      <td>@KingdomElla @equibal_m I claim it🙏</td>\n      <td>en</td>\n      <td>[]</td>\n      <td>1</td>\n      <td>20</td>\n      <td>0</td>\n      <td>0</td>\n      <td>0</td>\n      <td>Avon</td>\n      <td>1</td>\n    </tr>\n    <tr>\n      <th>...</th>\n      <td>...</td>\n      <td>...</td>\n      <td>...</td>\n      <td>...</td>\n      <td>...</td>\n      <td>...</td>\n      <td>...</td>\n      <td>...</td>\n      <td>...</td>\n      <td>...</td>\n      <td>...</td>\n      <td>...</td>\n      <td>...</td>\n    </tr>\n    <tr>\n      <th>28635</th>\n      <td>1347333570008899591</td>\n      <td>2021-01-07 21:05:29</td>\n      <td></td>\n      <td>@PatrickIMcMahon @MarianSAnderson @RunRedMouse...</td>\n      <td>en</td>\n      <td>[]</td>\n      <td>4</td>\n      <td>21</td>\n      <td>1</td>\n      <td>1</td>\n      <td>0</td>\n      <td>Avon</td>\n      <td>0</td>\n    </tr>\n    <tr>\n      <th>28636</th>\n      <td>1347333507102765056</td>\n      <td>2021-01-07 21:05:14</td>\n      <td></td>\n      <td>@barb_avon Me too last week shifting in my cha...</td>\n      <td>en</td>\n      <td>[]</td>\n      <td>4</td>\n      <td>21</td>\n      <td>0</td>\n      <td>1</td>\n      <td>0</td>\n      <td>Avon</td>\n      <td>0</td>\n    </tr>\n    <tr>\n      <th>28637</th>\n      <td>1347333315574038529</td>\n      <td>2021-01-07 21:04:29</td>\n      <td></td>\n      <td>@timotheehals YER DAD SELLS AVON</td>\n      <td>en</td>\n      <td>[]</td>\n      <td>4</td>\n      <td>21</td>\n      <td>0</td>\n      <td>1</td>\n      <td>0</td>\n      <td>Avon</td>\n      <td>0</td>\n    </tr>\n    <tr>\n      <th>28640</th>\n      <td>1347332615360024577</td>\n      <td>2021-01-07 21:01:42</td>\n      <td></td>\n      <td>@barb_avon Getting old is not for wimps that's...</td>\n      <td>en</td>\n      <td>[]</td>\n      <td>4</td>\n      <td>21</td>\n      <td>1</td>\n      <td>1</td>\n      <td>0</td>\n      <td>Avon</td>\n      <td>0</td>\n    </tr>\n    <tr>\n      <th>28641</th>\n      <td>1347332526092800002</td>\n      <td>2021-01-07 21:01:21</td>\n      <td></td>\n      <td>@barb_avon It's a tie and I feel your pain</td>\n      <td>en</td>\n      <td>[]</td>\n      <td>4</td>\n      <td>21</td>\n      <td>1</td>\n      <td>1</td>\n      <td>0</td>\n      <td>Avon</td>\n      <td>0</td>\n    </tr>\n  </tbody>\n</table>\n<p>41825 rows × 13 columns</p>\n</div>"
     },
     "metadata": {},
     "execution_count": 17
    }
   ],
   "source": [
    "ft_tweets.query(\"language == 'en'\")"
   ]
  },
  {
   "cell_type": "code",
   "execution_count": 18,
   "metadata": {
    "tags": []
   },
   "outputs": [],
   "source": [
    "def try_detect(tweet):\n",
    "    try:\n",
    "        return detect(tweet)\n",
    "    except:\n",
    "        return 'not_detected'\n",
    "en_tweets = ft_tweets.query(\"language == 'en'\")\n",
    "en_tweets['detected_lang'] = en_tweets.apply(lambda row : try_detect(row['tweet']),axis=1)"
   ]
  },
  {
   "cell_type": "code",
   "execution_count": 19,
   "metadata": {},
   "outputs": [
    {
     "output_type": "execute_result",
     "data": {
      "text/plain": [
       "en              38913\n",
       "de                550\n",
       "nl                391\n",
       "no                252\n",
       "tl                226\n",
       "af                195\n",
       "fr                175\n",
       "so                133\n",
       "id                122\n",
       "sv                114\n",
       "ca                113\n",
       "it                107\n",
       "et                100\n",
       "fi                 70\n",
       "da                 62\n",
       "cy                 47\n",
       "tr                 36\n",
       "es                 36\n",
       "sl                 34\n",
       "ro                 32\n",
       "vi                 30\n",
       "hu                 25\n",
       "pt                 19\n",
       "sw                  8\n",
       "hr                  7\n",
       "cs                  6\n",
       "pl                  6\n",
       "sk                  5\n",
       "sq                  5\n",
       "lt                  3\n",
       "lv                  2\n",
       "not_detected        1\n",
       "Name: detected_lang, dtype: int64"
      ]
     },
     "metadata": {},
     "execution_count": 19
    }
   ],
   "source": [
    "en_tweets.detected_lang.value_counts()"
   ]
  },
  {
   "cell_type": "code",
   "execution_count": 20,
   "metadata": {},
   "outputs": [
    {
     "output_type": "execute_result",
     "data": {
      "text/plain": [
       "                        id                 date  \\\n",
       "2722   1358620310031900672  2021-02-08 00:34:58   \n",
       "12046  1357529378591289346  2021-02-05 00:20:00   \n",
       "12918  1357425622050603010  2021-02-04 17:27:42   \n",
       "16976  1356946044538523654  2021-02-03 09:42:02   \n",
       "18488  1356732399464423424  2021-02-02 19:33:05   \n",
       "25359  1355836012136689664  2021-01-31 08:11:10   \n",
       "26222  1355656436693532675  2021-01-30 20:17:36   \n",
       "31753  1354917350907252740  2021-01-28 19:20:44   \n",
       "32364  1354858973615300609  2021-01-28 15:28:46   \n",
       "33509  1354776753898737664  2021-01-28 10:02:03   \n",
       "48176  1354465462764113920  2021-01-27 13:25:05   \n",
       "51503  1354156711947476993  2021-01-26 16:58:13   \n",
       "53564  1353878212263211008  2021-01-25 22:31:34   \n",
       "55633  1353609945435021313  2021-01-25 04:45:34   \n",
       "8357   1351272979666071559  2021-01-18 17:59:18   \n",
       "9922   1350942235391623168  2021-01-17 20:05:02   \n",
       "15862  1349785028268584962  2021-01-14 15:26:43   \n",
       "16536  1349714084716023810  2021-01-14 10:44:48   \n",
       "21312  1348808436620947456  2021-01-11 22:46:05   \n",
       "\n",
       "                                                   place  \\\n",
       "2722                                                       \n",
       "12046                                                      \n",
       "12918  {'type': 'Point', 'coordinates': [-23.24650687...   \n",
       "16976                                                      \n",
       "18488                                                      \n",
       "25359                                                      \n",
       "26222                                                      \n",
       "31753                                                      \n",
       "32364                                                      \n",
       "33509                                                      \n",
       "48176                                                      \n",
       "51503                                                      \n",
       "53564                                                      \n",
       "55633                                                      \n",
       "8357                                                       \n",
       "9922                                                       \n",
       "15862                                                      \n",
       "16536                                                      \n",
       "21312                                                      \n",
       "\n",
       "                                                   tweet language  \\\n",
       "2722        @dalidoisa Coach Avon just around da corner.       en   \n",
       "12046                       mood igual o do fake da avon       en   \n",
       "12918  At Work ! em Avon CD Cabreuva  https://t.co/bS...       en   \n",
       "16976                  Postcard  https://t.co/dvVUZtkMdS       en   \n",
       "18488                             @barb_avon So do I🤫😂❤️       en   \n",
       "25359  @BCFC_Supporters NO NO NO NO NO NO NO NO NO NO...       en   \n",
       "26222                              @barb_avon Please do.       en   \n",
       "31753  O Perfect Red da Gama True Colour da Avon  htt...       en   \n",
       "32364                                    juntes com avon       en   \n",
       "33509  #promoção #oferta  Petit Happy Bug - 50ml - Av...       en   \n",
       "48176                           @exfazendeiro makes avon       en   \n",
       "51503  make da avon, perfume e sabonete da natura NET...       en   \n",
       "53564                       @Jessicabmoura e a make avon       en   \n",
       "55633    #pauloavelino for Avon  https://t.co/NxVeVc7FnN       en   \n",
       "8357                              Where do u live 😂😂😂😂😂😂       en   \n",
       "9922                  @FNJacko @cxlEU your mum does avon       en   \n",
       "15862                                           @O2 Done       en   \n",
       "16536                                 @MAK_AVON O Hairrr       en   \n",
       "21312                            @dmsreadwrite We do! 😊😊       en   \n",
       "\n",
       "                                hashtags  day hour  nlikes  nreplies  \\\n",
       "2722                                  []    1   00       1         0   \n",
       "12046                                 []    5   00       1         0   \n",
       "12918                                 []    4   17       0         0   \n",
       "16976                                 []    3   09       4         0   \n",
       "18488                                 []    2   19       1         0   \n",
       "25359                                 []    7   08       0         0   \n",
       "26222                                 []    6   20       1         1   \n",
       "31753                                 []    4   19       0         0   \n",
       "32364                                 []    4   15       0         2   \n",
       "33509  [promoção, oferta, beleza, saude]    4   10       0         0   \n",
       "48176                                 []    3   13       0         1   \n",
       "51503                                 []    2   16       1         0   \n",
       "53564                                 []    1   22       1         1   \n",
       "55633                     [pauloavelino]    1   04       0         0   \n",
       "8357                                  []    1   17       1         1   \n",
       "9922                                  []    7   20       0         1   \n",
       "15862                                 []    4   15       0         1   \n",
       "16536                                 []    4   10       0         0   \n",
       "21312                                 []    1   22       1         0   \n",
       "\n",
       "       nretweets search  pos_bbb detected_lang  \n",
       "2722           0   Avon        1            pt  \n",
       "12046          0   Avon        1            pt  \n",
       "12918          0   Avon        1            pt  \n",
       "16976          0   Avon        1            pt  \n",
       "18488          0   Avon        1            pt  \n",
       "25359          0   Avon        1            pt  \n",
       "26222          0   Avon        1            pt  \n",
       "31753          0   Avon        1            pt  \n",
       "32364          0   Avon        1            pt  \n",
       "33509          0   Avon        1            pt  \n",
       "48176          0   Avon        1            pt  \n",
       "51503          0   Avon        1            pt  \n",
       "53564          0   Avon        1            pt  \n",
       "55633          0   Avon        1            pt  \n",
       "8357           0   Avon        0            pt  \n",
       "9922           0   Avon        0            pt  \n",
       "15862          0   Avon        0            pt  \n",
       "16536          0   Avon        0            pt  \n",
       "21312          0   Avon        0            pt  "
      ],
      "text/html": "<div>\n<style scoped>\n    .dataframe tbody tr th:only-of-type {\n        vertical-align: middle;\n    }\n\n    .dataframe tbody tr th {\n        vertical-align: top;\n    }\n\n    .dataframe thead th {\n        text-align: right;\n    }\n</style>\n<table border=\"1\" class=\"dataframe\">\n  <thead>\n    <tr style=\"text-align: right;\">\n      <th></th>\n      <th>id</th>\n      <th>date</th>\n      <th>place</th>\n      <th>tweet</th>\n      <th>language</th>\n      <th>hashtags</th>\n      <th>day</th>\n      <th>hour</th>\n      <th>nlikes</th>\n      <th>nreplies</th>\n      <th>nretweets</th>\n      <th>search</th>\n      <th>pos_bbb</th>\n      <th>detected_lang</th>\n    </tr>\n  </thead>\n  <tbody>\n    <tr>\n      <th>2722</th>\n      <td>1358620310031900672</td>\n      <td>2021-02-08 00:34:58</td>\n      <td></td>\n      <td>@dalidoisa Coach Avon just around da corner.</td>\n      <td>en</td>\n      <td>[]</td>\n      <td>1</td>\n      <td>00</td>\n      <td>1</td>\n      <td>0</td>\n      <td>0</td>\n      <td>Avon</td>\n      <td>1</td>\n      <td>pt</td>\n    </tr>\n    <tr>\n      <th>12046</th>\n      <td>1357529378591289346</td>\n      <td>2021-02-05 00:20:00</td>\n      <td></td>\n      <td>mood igual o do fake da avon</td>\n      <td>en</td>\n      <td>[]</td>\n      <td>5</td>\n      <td>00</td>\n      <td>1</td>\n      <td>0</td>\n      <td>0</td>\n      <td>Avon</td>\n      <td>1</td>\n      <td>pt</td>\n    </tr>\n    <tr>\n      <th>12918</th>\n      <td>1357425622050603010</td>\n      <td>2021-02-04 17:27:42</td>\n      <td>{'type': 'Point', 'coordinates': [-23.24650687...</td>\n      <td>At Work ! em Avon CD Cabreuva  https://t.co/bS...</td>\n      <td>en</td>\n      <td>[]</td>\n      <td>4</td>\n      <td>17</td>\n      <td>0</td>\n      <td>0</td>\n      <td>0</td>\n      <td>Avon</td>\n      <td>1</td>\n      <td>pt</td>\n    </tr>\n    <tr>\n      <th>16976</th>\n      <td>1356946044538523654</td>\n      <td>2021-02-03 09:42:02</td>\n      <td></td>\n      <td>Postcard  https://t.co/dvVUZtkMdS</td>\n      <td>en</td>\n      <td>[]</td>\n      <td>3</td>\n      <td>09</td>\n      <td>4</td>\n      <td>0</td>\n      <td>0</td>\n      <td>Avon</td>\n      <td>1</td>\n      <td>pt</td>\n    </tr>\n    <tr>\n      <th>18488</th>\n      <td>1356732399464423424</td>\n      <td>2021-02-02 19:33:05</td>\n      <td></td>\n      <td>@barb_avon So do I🤫😂❤️</td>\n      <td>en</td>\n      <td>[]</td>\n      <td>2</td>\n      <td>19</td>\n      <td>1</td>\n      <td>0</td>\n      <td>0</td>\n      <td>Avon</td>\n      <td>1</td>\n      <td>pt</td>\n    </tr>\n    <tr>\n      <th>25359</th>\n      <td>1355836012136689664</td>\n      <td>2021-01-31 08:11:10</td>\n      <td></td>\n      <td>@BCFC_Supporters NO NO NO NO NO NO NO NO NO NO...</td>\n      <td>en</td>\n      <td>[]</td>\n      <td>7</td>\n      <td>08</td>\n      <td>0</td>\n      <td>0</td>\n      <td>0</td>\n      <td>Avon</td>\n      <td>1</td>\n      <td>pt</td>\n    </tr>\n    <tr>\n      <th>26222</th>\n      <td>1355656436693532675</td>\n      <td>2021-01-30 20:17:36</td>\n      <td></td>\n      <td>@barb_avon Please do.</td>\n      <td>en</td>\n      <td>[]</td>\n      <td>6</td>\n      <td>20</td>\n      <td>1</td>\n      <td>1</td>\n      <td>0</td>\n      <td>Avon</td>\n      <td>1</td>\n      <td>pt</td>\n    </tr>\n    <tr>\n      <th>31753</th>\n      <td>1354917350907252740</td>\n      <td>2021-01-28 19:20:44</td>\n      <td></td>\n      <td>O Perfect Red da Gama True Colour da Avon  htt...</td>\n      <td>en</td>\n      <td>[]</td>\n      <td>4</td>\n      <td>19</td>\n      <td>0</td>\n      <td>0</td>\n      <td>0</td>\n      <td>Avon</td>\n      <td>1</td>\n      <td>pt</td>\n    </tr>\n    <tr>\n      <th>32364</th>\n      <td>1354858973615300609</td>\n      <td>2021-01-28 15:28:46</td>\n      <td></td>\n      <td>juntes com avon</td>\n      <td>en</td>\n      <td>[]</td>\n      <td>4</td>\n      <td>15</td>\n      <td>0</td>\n      <td>2</td>\n      <td>0</td>\n      <td>Avon</td>\n      <td>1</td>\n      <td>pt</td>\n    </tr>\n    <tr>\n      <th>33509</th>\n      <td>1354776753898737664</td>\n      <td>2021-01-28 10:02:03</td>\n      <td></td>\n      <td>#promoção #oferta  Petit Happy Bug - 50ml - Av...</td>\n      <td>en</td>\n      <td>[promoção, oferta, beleza, saude]</td>\n      <td>4</td>\n      <td>10</td>\n      <td>0</td>\n      <td>0</td>\n      <td>0</td>\n      <td>Avon</td>\n      <td>1</td>\n      <td>pt</td>\n    </tr>\n    <tr>\n      <th>48176</th>\n      <td>1354465462764113920</td>\n      <td>2021-01-27 13:25:05</td>\n      <td></td>\n      <td>@exfazendeiro makes avon</td>\n      <td>en</td>\n      <td>[]</td>\n      <td>3</td>\n      <td>13</td>\n      <td>0</td>\n      <td>1</td>\n      <td>0</td>\n      <td>Avon</td>\n      <td>1</td>\n      <td>pt</td>\n    </tr>\n    <tr>\n      <th>51503</th>\n      <td>1354156711947476993</td>\n      <td>2021-01-26 16:58:13</td>\n      <td></td>\n      <td>make da avon, perfume e sabonete da natura NET...</td>\n      <td>en</td>\n      <td>[]</td>\n      <td>2</td>\n      <td>16</td>\n      <td>1</td>\n      <td>0</td>\n      <td>0</td>\n      <td>Avon</td>\n      <td>1</td>\n      <td>pt</td>\n    </tr>\n    <tr>\n      <th>53564</th>\n      <td>1353878212263211008</td>\n      <td>2021-01-25 22:31:34</td>\n      <td></td>\n      <td>@Jessicabmoura e a make avon</td>\n      <td>en</td>\n      <td>[]</td>\n      <td>1</td>\n      <td>22</td>\n      <td>1</td>\n      <td>1</td>\n      <td>0</td>\n      <td>Avon</td>\n      <td>1</td>\n      <td>pt</td>\n    </tr>\n    <tr>\n      <th>55633</th>\n      <td>1353609945435021313</td>\n      <td>2021-01-25 04:45:34</td>\n      <td></td>\n      <td>#pauloavelino for Avon  https://t.co/NxVeVc7FnN</td>\n      <td>en</td>\n      <td>[pauloavelino]</td>\n      <td>1</td>\n      <td>04</td>\n      <td>0</td>\n      <td>0</td>\n      <td>0</td>\n      <td>Avon</td>\n      <td>1</td>\n      <td>pt</td>\n    </tr>\n    <tr>\n      <th>8357</th>\n      <td>1351272979666071559</td>\n      <td>2021-01-18 17:59:18</td>\n      <td></td>\n      <td>Where do u live 😂😂😂😂😂😂</td>\n      <td>en</td>\n      <td>[]</td>\n      <td>1</td>\n      <td>17</td>\n      <td>1</td>\n      <td>1</td>\n      <td>0</td>\n      <td>Avon</td>\n      <td>0</td>\n      <td>pt</td>\n    </tr>\n    <tr>\n      <th>9922</th>\n      <td>1350942235391623168</td>\n      <td>2021-01-17 20:05:02</td>\n      <td></td>\n      <td>@FNJacko @cxlEU your mum does avon</td>\n      <td>en</td>\n      <td>[]</td>\n      <td>7</td>\n      <td>20</td>\n      <td>0</td>\n      <td>1</td>\n      <td>0</td>\n      <td>Avon</td>\n      <td>0</td>\n      <td>pt</td>\n    </tr>\n    <tr>\n      <th>15862</th>\n      <td>1349785028268584962</td>\n      <td>2021-01-14 15:26:43</td>\n      <td></td>\n      <td>@O2 Done</td>\n      <td>en</td>\n      <td>[]</td>\n      <td>4</td>\n      <td>15</td>\n      <td>0</td>\n      <td>1</td>\n      <td>0</td>\n      <td>Avon</td>\n      <td>0</td>\n      <td>pt</td>\n    </tr>\n    <tr>\n      <th>16536</th>\n      <td>1349714084716023810</td>\n      <td>2021-01-14 10:44:48</td>\n      <td></td>\n      <td>@MAK_AVON O Hairrr</td>\n      <td>en</td>\n      <td>[]</td>\n      <td>4</td>\n      <td>10</td>\n      <td>0</td>\n      <td>0</td>\n      <td>0</td>\n      <td>Avon</td>\n      <td>0</td>\n      <td>pt</td>\n    </tr>\n    <tr>\n      <th>21312</th>\n      <td>1348808436620947456</td>\n      <td>2021-01-11 22:46:05</td>\n      <td></td>\n      <td>@dmsreadwrite We do! 😊😊</td>\n      <td>en</td>\n      <td>[]</td>\n      <td>1</td>\n      <td>22</td>\n      <td>1</td>\n      <td>0</td>\n      <td>0</td>\n      <td>Avon</td>\n      <td>0</td>\n      <td>pt</td>\n    </tr>\n  </tbody>\n</table>\n</div>"
     },
     "metadata": {},
     "execution_count": 20
    }
   ],
   "source": [
    "en_tweets.query(\"detected_lang == 'pt'\")"
   ]
  },
  {
   "source": [
    "Tendo em vista o baixo volume de tweets detectados como PT, bem como o baixo engajamento em retweets e likes, os mesmos serão desconsiderados da análise"
   ],
   "cell_type": "markdown",
   "metadata": {}
  },
  {
   "cell_type": "code",
   "execution_count": 22,
   "metadata": {},
   "outputs": [],
   "source": [
    "pt_tweets = ft_tweets.query(\"language == 'pt'\")\n",
    "pt_tweets.to_csv('output/pt_tweets.csv',index=False)"
   ]
  },
  {
   "source": [
    "#### Verificação do total de dias que restaram após a remoção dos tweets em inglês."
   ],
   "cell_type": "markdown",
   "metadata": {}
  },
  {
   "cell_type": "code",
   "execution_count": 23,
   "metadata": {},
   "outputs": [],
   "source": [
    "pt_tweets['date'] = pd.to_datetime(pt_tweets['date'])"
   ]
  },
  {
   "cell_type": "code",
   "execution_count": 24,
   "metadata": {},
   "outputs": [
    {
     "output_type": "stream",
     "name": "stdout",
     "text": [
      "Total Dias Pós: 14 days 23:52:49\nTotal Dias Pré: 14 days 23:51:12\n"
     ]
    }
   ],
   "source": [
    "print(f\"Total Dias Pós: {pt_tweets.query('pos_bbb == 1')['date'].max() - pt_tweets.query('pos_bbb == 1')['date'].min()}\")\n",
    "print(f\"Total Dias Pré: {pt_tweets.query('pos_bbb == 0')['date'].max() - pt_tweets.query('pos_bbb == 0')['date'].min()}\")"
   ]
  },
  {
   "source": [
    "#### Após as elimitações dos tweets detectados em outros idiomas, vamos verificar quantos tweets temos nos períodos antes e após o início do programa."
   ],
   "cell_type": "markdown",
   "metadata": {}
  },
  {
   "cell_type": "code",
   "execution_count": 25,
   "metadata": {},
   "outputs": [
    {
     "output_type": "execute_result",
     "data": {
      "text/plain": [
       "         total\n",
       "pos_bbb       \n",
       "0         2839\n",
       "1        25260"
      ],
      "text/html": "<div>\n<style scoped>\n    .dataframe tbody tr th:only-of-type {\n        vertical-align: middle;\n    }\n\n    .dataframe tbody tr th {\n        vertical-align: top;\n    }\n\n    .dataframe thead th {\n        text-align: right;\n    }\n</style>\n<table border=\"1\" class=\"dataframe\">\n  <thead>\n    <tr style=\"text-align: right;\">\n      <th></th>\n      <th>total</th>\n    </tr>\n    <tr>\n      <th>pos_bbb</th>\n      <th></th>\n    </tr>\n  </thead>\n  <tbody>\n    <tr>\n      <th>0</th>\n      <td>2839</td>\n    </tr>\n    <tr>\n      <th>1</th>\n      <td>25260</td>\n    </tr>\n  </tbody>\n</table>\n</div>"
     },
     "metadata": {},
     "execution_count": 25
    }
   ],
   "source": [
    "pt_tweets.groupby('pos_bbb').agg(\n",
    "    total=('id','count')\n",
    ")"
   ]
  },
  {
   "source": [
    "#### Ao longo dos 14 dias antes do início do programa e nos 14 dias após, percebemos um grande aumento no volume de Tweets para a Avon, vamos explorar um pouco mais estes dados."
   ],
   "cell_type": "markdown",
   "metadata": {}
  },
  {
   "source": [
    "### 3 - Análise temporal"
   ],
   "cell_type": "markdown",
   "metadata": {}
  },
  {
   "cell_type": "code",
   "execution_count": 26,
   "metadata": {},
   "outputs": [],
   "source": [
    "pt_tweets['dates'] = pt_tweets['date'].dt.date "
   ]
  },
  {
   "cell_type": "code",
   "execution_count": 27,
   "metadata": {},
   "outputs": [],
   "source": [
    "tweets_day = pt_tweets.groupby('dates').agg(\n",
    "    tweets_dia=('id','count')\n",
    ")"
   ]
  },
  {
   "cell_type": "code",
   "execution_count": 52,
   "metadata": {},
   "outputs": [
    {
     "output_type": "display_data",
     "data": {
      "application/vnd.plotly.v1+json": {
       "config": {
        "plotlyServerURL": "https://plot.ly"
       },
       "data": [
        {
         "hovertemplate": "variable=tweets_dia<br>Dias=%{x}<br>Total=%{y}<extra></extra>",
         "legendgroup": "tweets_dia",
         "line": {
          "color": "#636efa",
          "dash": "solid"
         },
         "mode": "lines",
         "name": "tweets_dia",
         "orientation": "v",
         "showlegend": true,
         "type": "scatter",
         "x": [
          "2021-01-07",
          "2021-01-08",
          "2021-01-09",
          "2021-01-10",
          "2021-01-11",
          "2021-01-12",
          "2021-01-13",
          "2021-01-14",
          "2021-01-15",
          "2021-01-16",
          "2021-01-17",
          "2021-01-18",
          "2021-01-19",
          "2021-01-20",
          "2021-01-21",
          "2021-01-22",
          "2021-01-24",
          "2021-01-25",
          "2021-01-26",
          "2021-01-27",
          "2021-01-28",
          "2021-01-29",
          "2021-01-30",
          "2021-01-31",
          "2021-02-01",
          "2021-02-02",
          "2021-02-03",
          "2021-02-04",
          "2021-02-05",
          "2021-02-06",
          "2021-02-07",
          "2021-02-08"
         ],
         "xaxis": "x",
         "y": [
          38,
          235,
          180,
          158,
          182,
          158,
          158,
          194,
          193,
          190,
          169,
          160,
          273,
          179,
          213,
          159,
          23,
          953,
          619,
          12493,
          1478,
          1087,
          522,
          687,
          1210,
          840,
          558,
          404,
          841,
          1455,
          1067,
          1023
         ],
         "yaxis": "y"
        }
       ],
       "layout": {
        "annotations": [
         {
          "arrowhead": 1,
          "showarrow": true,
          "text": "Ação Avon Maquiagem",
          "x": "2021-01-27",
          "y": 12000
         }
        ],
        "font": {
         "family": "Rockwell"
        },
        "legend": {
         "title": {
          "text": "variable"
         },
         "tracegroupgap": 0
        },
        "margin": {
         "t": 60
        },
        "showlegend": false,
        "template": {
         "data": {
          "bar": [
           {
            "error_x": {
             "color": "#2a3f5f"
            },
            "error_y": {
             "color": "#2a3f5f"
            },
            "marker": {
             "line": {
              "color": "white",
              "width": 0.5
             }
            },
            "type": "bar"
           }
          ],
          "barpolar": [
           {
            "marker": {
             "line": {
              "color": "white",
              "width": 0.5
             }
            },
            "type": "barpolar"
           }
          ],
          "carpet": [
           {
            "aaxis": {
             "endlinecolor": "#2a3f5f",
             "gridcolor": "#C8D4E3",
             "linecolor": "#C8D4E3",
             "minorgridcolor": "#C8D4E3",
             "startlinecolor": "#2a3f5f"
            },
            "baxis": {
             "endlinecolor": "#2a3f5f",
             "gridcolor": "#C8D4E3",
             "linecolor": "#C8D4E3",
             "minorgridcolor": "#C8D4E3",
             "startlinecolor": "#2a3f5f"
            },
            "type": "carpet"
           }
          ],
          "choropleth": [
           {
            "colorbar": {
             "outlinewidth": 0,
             "ticks": ""
            },
            "type": "choropleth"
           }
          ],
          "contour": [
           {
            "colorbar": {
             "outlinewidth": 0,
             "ticks": ""
            },
            "colorscale": [
             [
              0,
              "#0d0887"
             ],
             [
              0.1111111111111111,
              "#46039f"
             ],
             [
              0.2222222222222222,
              "#7201a8"
             ],
             [
              0.3333333333333333,
              "#9c179e"
             ],
             [
              0.4444444444444444,
              "#bd3786"
             ],
             [
              0.5555555555555556,
              "#d8576b"
             ],
             [
              0.6666666666666666,
              "#ed7953"
             ],
             [
              0.7777777777777778,
              "#fb9f3a"
             ],
             [
              0.8888888888888888,
              "#fdca26"
             ],
             [
              1,
              "#f0f921"
             ]
            ],
            "type": "contour"
           }
          ],
          "contourcarpet": [
           {
            "colorbar": {
             "outlinewidth": 0,
             "ticks": ""
            },
            "type": "contourcarpet"
           }
          ],
          "heatmap": [
           {
            "colorbar": {
             "outlinewidth": 0,
             "ticks": ""
            },
            "colorscale": [
             [
              0,
              "#0d0887"
             ],
             [
              0.1111111111111111,
              "#46039f"
             ],
             [
              0.2222222222222222,
              "#7201a8"
             ],
             [
              0.3333333333333333,
              "#9c179e"
             ],
             [
              0.4444444444444444,
              "#bd3786"
             ],
             [
              0.5555555555555556,
              "#d8576b"
             ],
             [
              0.6666666666666666,
              "#ed7953"
             ],
             [
              0.7777777777777778,
              "#fb9f3a"
             ],
             [
              0.8888888888888888,
              "#fdca26"
             ],
             [
              1,
              "#f0f921"
             ]
            ],
            "type": "heatmap"
           }
          ],
          "heatmapgl": [
           {
            "colorbar": {
             "outlinewidth": 0,
             "ticks": ""
            },
            "colorscale": [
             [
              0,
              "#0d0887"
             ],
             [
              0.1111111111111111,
              "#46039f"
             ],
             [
              0.2222222222222222,
              "#7201a8"
             ],
             [
              0.3333333333333333,
              "#9c179e"
             ],
             [
              0.4444444444444444,
              "#bd3786"
             ],
             [
              0.5555555555555556,
              "#d8576b"
             ],
             [
              0.6666666666666666,
              "#ed7953"
             ],
             [
              0.7777777777777778,
              "#fb9f3a"
             ],
             [
              0.8888888888888888,
              "#fdca26"
             ],
             [
              1,
              "#f0f921"
             ]
            ],
            "type": "heatmapgl"
           }
          ],
          "histogram": [
           {
            "marker": {
             "colorbar": {
              "outlinewidth": 0,
              "ticks": ""
             }
            },
            "type": "histogram"
           }
          ],
          "histogram2d": [
           {
            "colorbar": {
             "outlinewidth": 0,
             "ticks": ""
            },
            "colorscale": [
             [
              0,
              "#0d0887"
             ],
             [
              0.1111111111111111,
              "#46039f"
             ],
             [
              0.2222222222222222,
              "#7201a8"
             ],
             [
              0.3333333333333333,
              "#9c179e"
             ],
             [
              0.4444444444444444,
              "#bd3786"
             ],
             [
              0.5555555555555556,
              "#d8576b"
             ],
             [
              0.6666666666666666,
              "#ed7953"
             ],
             [
              0.7777777777777778,
              "#fb9f3a"
             ],
             [
              0.8888888888888888,
              "#fdca26"
             ],
             [
              1,
              "#f0f921"
             ]
            ],
            "type": "histogram2d"
           }
          ],
          "histogram2dcontour": [
           {
            "colorbar": {
             "outlinewidth": 0,
             "ticks": ""
            },
            "colorscale": [
             [
              0,
              "#0d0887"
             ],
             [
              0.1111111111111111,
              "#46039f"
             ],
             [
              0.2222222222222222,
              "#7201a8"
             ],
             [
              0.3333333333333333,
              "#9c179e"
             ],
             [
              0.4444444444444444,
              "#bd3786"
             ],
             [
              0.5555555555555556,
              "#d8576b"
             ],
             [
              0.6666666666666666,
              "#ed7953"
             ],
             [
              0.7777777777777778,
              "#fb9f3a"
             ],
             [
              0.8888888888888888,
              "#fdca26"
             ],
             [
              1,
              "#f0f921"
             ]
            ],
            "type": "histogram2dcontour"
           }
          ],
          "mesh3d": [
           {
            "colorbar": {
             "outlinewidth": 0,
             "ticks": ""
            },
            "type": "mesh3d"
           }
          ],
          "parcoords": [
           {
            "line": {
             "colorbar": {
              "outlinewidth": 0,
              "ticks": ""
             }
            },
            "type": "parcoords"
           }
          ],
          "pie": [
           {
            "automargin": true,
            "type": "pie"
           }
          ],
          "scatter": [
           {
            "marker": {
             "colorbar": {
              "outlinewidth": 0,
              "ticks": ""
             }
            },
            "type": "scatter"
           }
          ],
          "scatter3d": [
           {
            "line": {
             "colorbar": {
              "outlinewidth": 0,
              "ticks": ""
             }
            },
            "marker": {
             "colorbar": {
              "outlinewidth": 0,
              "ticks": ""
             }
            },
            "type": "scatter3d"
           }
          ],
          "scattercarpet": [
           {
            "marker": {
             "colorbar": {
              "outlinewidth": 0,
              "ticks": ""
             }
            },
            "type": "scattercarpet"
           }
          ],
          "scattergeo": [
           {
            "marker": {
             "colorbar": {
              "outlinewidth": 0,
              "ticks": ""
             }
            },
            "type": "scattergeo"
           }
          ],
          "scattergl": [
           {
            "marker": {
             "colorbar": {
              "outlinewidth": 0,
              "ticks": ""
             }
            },
            "type": "scattergl"
           }
          ],
          "scattermapbox": [
           {
            "marker": {
             "colorbar": {
              "outlinewidth": 0,
              "ticks": ""
             }
            },
            "type": "scattermapbox"
           }
          ],
          "scatterpolar": [
           {
            "marker": {
             "colorbar": {
              "outlinewidth": 0,
              "ticks": ""
             }
            },
            "type": "scatterpolar"
           }
          ],
          "scatterpolargl": [
           {
            "marker": {
             "colorbar": {
              "outlinewidth": 0,
              "ticks": ""
             }
            },
            "type": "scatterpolargl"
           }
          ],
          "scatterternary": [
           {
            "marker": {
             "colorbar": {
              "outlinewidth": 0,
              "ticks": ""
             }
            },
            "type": "scatterternary"
           }
          ],
          "surface": [
           {
            "colorbar": {
             "outlinewidth": 0,
             "ticks": ""
            },
            "colorscale": [
             [
              0,
              "#0d0887"
             ],
             [
              0.1111111111111111,
              "#46039f"
             ],
             [
              0.2222222222222222,
              "#7201a8"
             ],
             [
              0.3333333333333333,
              "#9c179e"
             ],
             [
              0.4444444444444444,
              "#bd3786"
             ],
             [
              0.5555555555555556,
              "#d8576b"
             ],
             [
              0.6666666666666666,
              "#ed7953"
             ],
             [
              0.7777777777777778,
              "#fb9f3a"
             ],
             [
              0.8888888888888888,
              "#fdca26"
             ],
             [
              1,
              "#f0f921"
             ]
            ],
            "type": "surface"
           }
          ],
          "table": [
           {
            "cells": {
             "fill": {
              "color": "#EBF0F8"
             },
             "line": {
              "color": "white"
             }
            },
            "header": {
             "fill": {
              "color": "#C8D4E3"
             },
             "line": {
              "color": "white"
             }
            },
            "type": "table"
           }
          ]
         },
         "layout": {
          "annotationdefaults": {
           "arrowcolor": "#2a3f5f",
           "arrowhead": 0,
           "arrowwidth": 1
          },
          "autotypenumbers": "strict",
          "coloraxis": {
           "colorbar": {
            "outlinewidth": 0,
            "ticks": ""
           }
          },
          "colorscale": {
           "diverging": [
            [
             0,
             "#8e0152"
            ],
            [
             0.1,
             "#c51b7d"
            ],
            [
             0.2,
             "#de77ae"
            ],
            [
             0.3,
             "#f1b6da"
            ],
            [
             0.4,
             "#fde0ef"
            ],
            [
             0.5,
             "#f7f7f7"
            ],
            [
             0.6,
             "#e6f5d0"
            ],
            [
             0.7,
             "#b8e186"
            ],
            [
             0.8,
             "#7fbc41"
            ],
            [
             0.9,
             "#4d9221"
            ],
            [
             1,
             "#276419"
            ]
           ],
           "sequential": [
            [
             0,
             "#0d0887"
            ],
            [
             0.1111111111111111,
             "#46039f"
            ],
            [
             0.2222222222222222,
             "#7201a8"
            ],
            [
             0.3333333333333333,
             "#9c179e"
            ],
            [
             0.4444444444444444,
             "#bd3786"
            ],
            [
             0.5555555555555556,
             "#d8576b"
            ],
            [
             0.6666666666666666,
             "#ed7953"
            ],
            [
             0.7777777777777778,
             "#fb9f3a"
            ],
            [
             0.8888888888888888,
             "#fdca26"
            ],
            [
             1,
             "#f0f921"
            ]
           ],
           "sequentialminus": [
            [
             0,
             "#0d0887"
            ],
            [
             0.1111111111111111,
             "#46039f"
            ],
            [
             0.2222222222222222,
             "#7201a8"
            ],
            [
             0.3333333333333333,
             "#9c179e"
            ],
            [
             0.4444444444444444,
             "#bd3786"
            ],
            [
             0.5555555555555556,
             "#d8576b"
            ],
            [
             0.6666666666666666,
             "#ed7953"
            ],
            [
             0.7777777777777778,
             "#fb9f3a"
            ],
            [
             0.8888888888888888,
             "#fdca26"
            ],
            [
             1,
             "#f0f921"
            ]
           ]
          },
          "colorway": [
           "#636efa",
           "#EF553B",
           "#00cc96",
           "#ab63fa",
           "#FFA15A",
           "#19d3f3",
           "#FF6692",
           "#B6E880",
           "#FF97FF",
           "#FECB52"
          ],
          "font": {
           "color": "#2a3f5f"
          },
          "geo": {
           "bgcolor": "white",
           "lakecolor": "white",
           "landcolor": "white",
           "showlakes": true,
           "showland": true,
           "subunitcolor": "#C8D4E3"
          },
          "hoverlabel": {
           "align": "left"
          },
          "hovermode": "closest",
          "mapbox": {
           "style": "light"
          },
          "paper_bgcolor": "white",
          "plot_bgcolor": "white",
          "polar": {
           "angularaxis": {
            "gridcolor": "#EBF0F8",
            "linecolor": "#EBF0F8",
            "ticks": ""
           },
           "bgcolor": "white",
           "radialaxis": {
            "gridcolor": "#EBF0F8",
            "linecolor": "#EBF0F8",
            "ticks": ""
           }
          },
          "scene": {
           "xaxis": {
            "backgroundcolor": "white",
            "gridcolor": "#DFE8F3",
            "gridwidth": 2,
            "linecolor": "#EBF0F8",
            "showbackground": true,
            "ticks": "",
            "zerolinecolor": "#EBF0F8"
           },
           "yaxis": {
            "backgroundcolor": "white",
            "gridcolor": "#DFE8F3",
            "gridwidth": 2,
            "linecolor": "#EBF0F8",
            "showbackground": true,
            "ticks": "",
            "zerolinecolor": "#EBF0F8"
           },
           "zaxis": {
            "backgroundcolor": "white",
            "gridcolor": "#DFE8F3",
            "gridwidth": 2,
            "linecolor": "#EBF0F8",
            "showbackground": true,
            "ticks": "",
            "zerolinecolor": "#EBF0F8"
           }
          },
          "shapedefaults": {
           "line": {
            "color": "#2a3f5f"
           }
          },
          "ternary": {
           "aaxis": {
            "gridcolor": "#DFE8F3",
            "linecolor": "#A2B1C6",
            "ticks": ""
           },
           "baxis": {
            "gridcolor": "#DFE8F3",
            "linecolor": "#A2B1C6",
            "ticks": ""
           },
           "bgcolor": "white",
           "caxis": {
            "gridcolor": "#DFE8F3",
            "linecolor": "#A2B1C6",
            "ticks": ""
           }
          },
          "title": {
           "x": 0.05
          },
          "xaxis": {
           "automargin": true,
           "gridcolor": "#EBF0F8",
           "linecolor": "#EBF0F8",
           "ticks": "",
           "title": {
            "standoff": 15
           },
           "zerolinecolor": "#EBF0F8",
           "zerolinewidth": 2
          },
          "yaxis": {
           "automargin": true,
           "gridcolor": "#EBF0F8",
           "linecolor": "#EBF0F8",
           "ticks": "",
           "title": {
            "standoff": 15
           },
           "zerolinecolor": "#EBF0F8",
           "zerolinewidth": 2
          }
         }
        },
        "title": {
         "text": "Tweets por Dia",
         "x": 0.5,
         "y": 0.95
        },
        "xaxis": {
         "anchor": "y",
         "domain": [
          0,
          1
         ],
         "title": {
          "text": "Dias"
         }
        },
        "yaxis": {
         "anchor": "x",
         "domain": [
          0,
          1
         ],
         "title": {
          "text": "Total"
         }
        }
       }
      }
     },
     "metadata": {}
    }
   ],
   "source": [
    "fig = px.line(tweets_day, template='plotly_white',labels={\n",
    "    \"dates\" : \"Dias\",\n",
    "    \"value\" : \"Total\"\n",
    "})\n",
    "fig.update_layout( # customize font and legend orientation & position\n",
    "    font_family=\"Rockwell\",\n",
    "    showlegend=False,\n",
    "    title={\n",
    "    'text' : 'Tweets por Dia',\n",
    "    'y': 0.95,\n",
    "    'x': 0.5\n",
    "    }\n",
    ")\n",
    "fig.add_annotation(\n",
    "    text=\"Ação Avon Maquiagem\", x='2021-01-27', y=12000, arrowhead=1, showarrow=True\n",
    ")"
   ]
  }
 ]
}